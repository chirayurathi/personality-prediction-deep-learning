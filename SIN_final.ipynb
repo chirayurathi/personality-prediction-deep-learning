{
  "nbformat": 4,
  "nbformat_minor": 5,
  "metadata": {
    "kernelspec": {
      "display_name": "Python 3",
      "language": "python",
      "name": "python3"
    },
    "language_info": {
      "codemirror_mode": {
        "name": "ipython",
        "version": 3
      },
      "file_extension": ".py",
      "mimetype": "text/x-python",
      "name": "python",
      "nbconvert_exporter": "python",
      "pygments_lexer": "ipython3",
      "version": "3.7.3"
    },
    "papermill": {
      "default_parameters": {},
      "duration": 1202.635385,
      "end_time": "2021-06-08T08:59:29.340022",
      "environment_variables": {},
      "exception": null,
      "input_path": "__notebook__.ipynb",
      "output_path": "__notebook__.ipynb",
      "parameters": {},
      "start_time": "2021-06-08T08:39:26.704637",
      "version": "2.3.3"
    },
    "colab": {
      "name": "SIN final.ipynb",
      "provenance": [],
      "include_colab_link": true
    },
    "widgets": {
      "application/vnd.jupyter.widget-state+json": {
        "a13272dac5104708a0fa551274274395": {
          "model_module": "@jupyter-widgets/controls",
          "model_name": "HBoxModel",
          "model_module_version": "1.5.0",
          "state": {
            "_view_name": "HBoxView",
            "_dom_classes": [],
            "_model_name": "HBoxModel",
            "_view_module": "@jupyter-widgets/controls",
            "_model_module_version": "1.5.0",
            "_view_count": null,
            "_view_module_version": "1.5.0",
            "box_style": "",
            "layout": "IPY_MODEL_6e3efc3f44aa4863a432b2c9a510ff97",
            "_model_module": "@jupyter-widgets/controls",
            "children": [
              "IPY_MODEL_ae79d1501baa4f11a0be1e9dbe0edbd7",
              "IPY_MODEL_65452d95ddf14b6fb73ae782ea65227f",
              "IPY_MODEL_abd876baa66a44409a026136872c56c0"
            ]
          }
        },
        "6e3efc3f44aa4863a432b2c9a510ff97": {
          "model_module": "@jupyter-widgets/base",
          "model_name": "LayoutModel",
          "model_module_version": "1.2.0",
          "state": {
            "_view_name": "LayoutView",
            "grid_template_rows": null,
            "right": null,
            "justify_content": null,
            "_view_module": "@jupyter-widgets/base",
            "overflow": null,
            "_model_module_version": "1.2.0",
            "_view_count": null,
            "flex_flow": null,
            "width": null,
            "min_width": null,
            "border": null,
            "align_items": null,
            "bottom": null,
            "_model_module": "@jupyter-widgets/base",
            "top": null,
            "grid_column": null,
            "overflow_y": null,
            "overflow_x": null,
            "grid_auto_flow": null,
            "grid_area": null,
            "grid_template_columns": null,
            "flex": null,
            "_model_name": "LayoutModel",
            "justify_items": null,
            "grid_row": null,
            "max_height": null,
            "align_content": null,
            "visibility": null,
            "align_self": null,
            "height": null,
            "min_height": null,
            "padding": null,
            "grid_auto_rows": null,
            "grid_gap": null,
            "max_width": null,
            "order": null,
            "_view_module_version": "1.2.0",
            "grid_template_areas": null,
            "object_position": null,
            "object_fit": null,
            "grid_auto_columns": null,
            "margin": null,
            "display": null,
            "left": null
          }
        },
        "ae79d1501baa4f11a0be1e9dbe0edbd7": {
          "model_module": "@jupyter-widgets/controls",
          "model_name": "HTMLModel",
          "model_module_version": "1.5.0",
          "state": {
            "_view_name": "HTMLView",
            "style": "IPY_MODEL_cb5d7cddd9644fd696bec7fa65ac763c",
            "_dom_classes": [],
            "description": "",
            "_model_name": "HTMLModel",
            "placeholder": "​",
            "_view_module": "@jupyter-widgets/controls",
            "_model_module_version": "1.5.0",
            "value": "100%",
            "_view_count": null,
            "_view_module_version": "1.5.0",
            "description_tooltip": null,
            "_model_module": "@jupyter-widgets/controls",
            "layout": "IPY_MODEL_5e6bde0a231442d1873564ff94f7b1d3"
          }
        },
        "65452d95ddf14b6fb73ae782ea65227f": {
          "model_module": "@jupyter-widgets/controls",
          "model_name": "FloatProgressModel",
          "model_module_version": "1.5.0",
          "state": {
            "_view_name": "ProgressView",
            "style": "IPY_MODEL_973d74ffc3644335afd891c3cf0726c7",
            "_dom_classes": [],
            "description": "",
            "_model_name": "FloatProgressModel",
            "bar_style": "success",
            "max": 8675,
            "_view_module": "@jupyter-widgets/controls",
            "_model_module_version": "1.5.0",
            "value": 8675,
            "_view_count": null,
            "_view_module_version": "1.5.0",
            "orientation": "horizontal",
            "min": 0,
            "description_tooltip": null,
            "_model_module": "@jupyter-widgets/controls",
            "layout": "IPY_MODEL_f7d7053f1f71406ab9a72980cccfcfe0"
          }
        },
        "abd876baa66a44409a026136872c56c0": {
          "model_module": "@jupyter-widgets/controls",
          "model_name": "HTMLModel",
          "model_module_version": "1.5.0",
          "state": {
            "_view_name": "HTMLView",
            "style": "IPY_MODEL_23c513803c654f5a92bde18f23361090",
            "_dom_classes": [],
            "description": "",
            "_model_name": "HTMLModel",
            "placeholder": "​",
            "_view_module": "@jupyter-widgets/controls",
            "_model_module_version": "1.5.0",
            "value": " 8675/8675 [00:00&lt;00:00, 33380.24it/s]",
            "_view_count": null,
            "_view_module_version": "1.5.0",
            "description_tooltip": null,
            "_model_module": "@jupyter-widgets/controls",
            "layout": "IPY_MODEL_4487a7472a304548a19390e211d65bc9"
          }
        },
        "cb5d7cddd9644fd696bec7fa65ac763c": {
          "model_module": "@jupyter-widgets/controls",
          "model_name": "DescriptionStyleModel",
          "model_module_version": "1.5.0",
          "state": {
            "_view_name": "StyleView",
            "_model_name": "DescriptionStyleModel",
            "description_width": "",
            "_view_module": "@jupyter-widgets/base",
            "_model_module_version": "1.5.0",
            "_view_count": null,
            "_view_module_version": "1.2.0",
            "_model_module": "@jupyter-widgets/controls"
          }
        },
        "5e6bde0a231442d1873564ff94f7b1d3": {
          "model_module": "@jupyter-widgets/base",
          "model_name": "LayoutModel",
          "model_module_version": "1.2.0",
          "state": {
            "_view_name": "LayoutView",
            "grid_template_rows": null,
            "right": null,
            "justify_content": null,
            "_view_module": "@jupyter-widgets/base",
            "overflow": null,
            "_model_module_version": "1.2.0",
            "_view_count": null,
            "flex_flow": null,
            "width": null,
            "min_width": null,
            "border": null,
            "align_items": null,
            "bottom": null,
            "_model_module": "@jupyter-widgets/base",
            "top": null,
            "grid_column": null,
            "overflow_y": null,
            "overflow_x": null,
            "grid_auto_flow": null,
            "grid_area": null,
            "grid_template_columns": null,
            "flex": null,
            "_model_name": "LayoutModel",
            "justify_items": null,
            "grid_row": null,
            "max_height": null,
            "align_content": null,
            "visibility": null,
            "align_self": null,
            "height": null,
            "min_height": null,
            "padding": null,
            "grid_auto_rows": null,
            "grid_gap": null,
            "max_width": null,
            "order": null,
            "_view_module_version": "1.2.0",
            "grid_template_areas": null,
            "object_position": null,
            "object_fit": null,
            "grid_auto_columns": null,
            "margin": null,
            "display": null,
            "left": null
          }
        },
        "973d74ffc3644335afd891c3cf0726c7": {
          "model_module": "@jupyter-widgets/controls",
          "model_name": "ProgressStyleModel",
          "model_module_version": "1.5.0",
          "state": {
            "_view_name": "StyleView",
            "_model_name": "ProgressStyleModel",
            "description_width": "",
            "_view_module": "@jupyter-widgets/base",
            "_model_module_version": "1.5.0",
            "_view_count": null,
            "_view_module_version": "1.2.0",
            "bar_color": null,
            "_model_module": "@jupyter-widgets/controls"
          }
        },
        "f7d7053f1f71406ab9a72980cccfcfe0": {
          "model_module": "@jupyter-widgets/base",
          "model_name": "LayoutModel",
          "model_module_version": "1.2.0",
          "state": {
            "_view_name": "LayoutView",
            "grid_template_rows": null,
            "right": null,
            "justify_content": null,
            "_view_module": "@jupyter-widgets/base",
            "overflow": null,
            "_model_module_version": "1.2.0",
            "_view_count": null,
            "flex_flow": null,
            "width": null,
            "min_width": null,
            "border": null,
            "align_items": null,
            "bottom": null,
            "_model_module": "@jupyter-widgets/base",
            "top": null,
            "grid_column": null,
            "overflow_y": null,
            "overflow_x": null,
            "grid_auto_flow": null,
            "grid_area": null,
            "grid_template_columns": null,
            "flex": null,
            "_model_name": "LayoutModel",
            "justify_items": null,
            "grid_row": null,
            "max_height": null,
            "align_content": null,
            "visibility": null,
            "align_self": null,
            "height": null,
            "min_height": null,
            "padding": null,
            "grid_auto_rows": null,
            "grid_gap": null,
            "max_width": null,
            "order": null,
            "_view_module_version": "1.2.0",
            "grid_template_areas": null,
            "object_position": null,
            "object_fit": null,
            "grid_auto_columns": null,
            "margin": null,
            "display": null,
            "left": null
          }
        },
        "23c513803c654f5a92bde18f23361090": {
          "model_module": "@jupyter-widgets/controls",
          "model_name": "DescriptionStyleModel",
          "model_module_version": "1.5.0",
          "state": {
            "_view_name": "StyleView",
            "_model_name": "DescriptionStyleModel",
            "description_width": "",
            "_view_module": "@jupyter-widgets/base",
            "_model_module_version": "1.5.0",
            "_view_count": null,
            "_view_module_version": "1.2.0",
            "_model_module": "@jupyter-widgets/controls"
          }
        },
        "4487a7472a304548a19390e211d65bc9": {
          "model_module": "@jupyter-widgets/base",
          "model_name": "LayoutModel",
          "model_module_version": "1.2.0",
          "state": {
            "_view_name": "LayoutView",
            "grid_template_rows": null,
            "right": null,
            "justify_content": null,
            "_view_module": "@jupyter-widgets/base",
            "overflow": null,
            "_model_module_version": "1.2.0",
            "_view_count": null,
            "flex_flow": null,
            "width": null,
            "min_width": null,
            "border": null,
            "align_items": null,
            "bottom": null,
            "_model_module": "@jupyter-widgets/base",
            "top": null,
            "grid_column": null,
            "overflow_y": null,
            "overflow_x": null,
            "grid_auto_flow": null,
            "grid_area": null,
            "grid_template_columns": null,
            "flex": null,
            "_model_name": "LayoutModel",
            "justify_items": null,
            "grid_row": null,
            "max_height": null,
            "align_content": null,
            "visibility": null,
            "align_self": null,
            "height": null,
            "min_height": null,
            "padding": null,
            "grid_auto_rows": null,
            "grid_gap": null,
            "max_width": null,
            "order": null,
            "_view_module_version": "1.2.0",
            "grid_template_areas": null,
            "object_position": null,
            "object_fit": null,
            "grid_auto_columns": null,
            "margin": null,
            "display": null,
            "left": null
          }
        },
        "85ecd65e25c844cb9643351ae0f2b63a": {
          "model_module": "@jupyter-widgets/controls",
          "model_name": "HBoxModel",
          "model_module_version": "1.5.0",
          "state": {
            "_view_name": "HBoxView",
            "_dom_classes": [],
            "_model_name": "HBoxModel",
            "_view_module": "@jupyter-widgets/controls",
            "_model_module_version": "1.5.0",
            "_view_count": null,
            "_view_module_version": "1.5.0",
            "box_style": "",
            "layout": "IPY_MODEL_38b74275592d42fa9a1fa2a3eb0bc6a9",
            "_model_module": "@jupyter-widgets/controls",
            "children": [
              "IPY_MODEL_bf4eac89a378476ba6df80425f55959b",
              "IPY_MODEL_d341c060ea3645d3b95a237b97e44b39",
              "IPY_MODEL_dd536cd7f93c4dc488b1f39d89af34b6"
            ]
          }
        },
        "38b74275592d42fa9a1fa2a3eb0bc6a9": {
          "model_module": "@jupyter-widgets/base",
          "model_name": "LayoutModel",
          "model_module_version": "1.2.0",
          "state": {
            "_view_name": "LayoutView",
            "grid_template_rows": null,
            "right": null,
            "justify_content": null,
            "_view_module": "@jupyter-widgets/base",
            "overflow": null,
            "_model_module_version": "1.2.0",
            "_view_count": null,
            "flex_flow": null,
            "width": null,
            "min_width": null,
            "border": null,
            "align_items": null,
            "bottom": null,
            "_model_module": "@jupyter-widgets/base",
            "top": null,
            "grid_column": null,
            "overflow_y": null,
            "overflow_x": null,
            "grid_auto_flow": null,
            "grid_area": null,
            "grid_template_columns": null,
            "flex": null,
            "_model_name": "LayoutModel",
            "justify_items": null,
            "grid_row": null,
            "max_height": null,
            "align_content": null,
            "visibility": null,
            "align_self": null,
            "height": null,
            "min_height": null,
            "padding": null,
            "grid_auto_rows": null,
            "grid_gap": null,
            "max_width": null,
            "order": null,
            "_view_module_version": "1.2.0",
            "grid_template_areas": null,
            "object_position": null,
            "object_fit": null,
            "grid_auto_columns": null,
            "margin": null,
            "display": null,
            "left": null
          }
        },
        "bf4eac89a378476ba6df80425f55959b": {
          "model_module": "@jupyter-widgets/controls",
          "model_name": "HTMLModel",
          "model_module_version": "1.5.0",
          "state": {
            "_view_name": "HTMLView",
            "style": "IPY_MODEL_e24d3b90f14143298d227d9db986a47b",
            "_dom_classes": [],
            "description": "",
            "_model_name": "HTMLModel",
            "placeholder": "​",
            "_view_module": "@jupyter-widgets/controls",
            "_model_module_version": "1.5.0",
            "value": "100%",
            "_view_count": null,
            "_view_module_version": "1.5.0",
            "description_tooltip": null,
            "_model_module": "@jupyter-widgets/controls",
            "layout": "IPY_MODEL_b25561bebfae446682a8c0ac9362d145"
          }
        },
        "d341c060ea3645d3b95a237b97e44b39": {
          "model_module": "@jupyter-widgets/controls",
          "model_name": "FloatProgressModel",
          "model_module_version": "1.5.0",
          "state": {
            "_view_name": "ProgressView",
            "style": "IPY_MODEL_71281adf0df74036a4aa3f23c5867a2d",
            "_dom_classes": [],
            "description": "",
            "_model_name": "FloatProgressModel",
            "bar_style": "success",
            "max": 8675,
            "_view_module": "@jupyter-widgets/controls",
            "_model_module_version": "1.5.0",
            "value": 8675,
            "_view_count": null,
            "_view_module_version": "1.5.0",
            "orientation": "horizontal",
            "min": 0,
            "description_tooltip": null,
            "_model_module": "@jupyter-widgets/controls",
            "layout": "IPY_MODEL_cd48378711d54eb0ab28fb12d922bf07"
          }
        },
        "dd536cd7f93c4dc488b1f39d89af34b6": {
          "model_module": "@jupyter-widgets/controls",
          "model_name": "HTMLModel",
          "model_module_version": "1.5.0",
          "state": {
            "_view_name": "HTMLView",
            "style": "IPY_MODEL_c70804463cd94853a9e73bba9858cea5",
            "_dom_classes": [],
            "description": "",
            "_model_name": "HTMLModel",
            "placeholder": "​",
            "_view_module": "@jupyter-widgets/controls",
            "_model_module_version": "1.5.0",
            "value": " 8675/8675 [09:30&lt;00:00, 15.42it/s]",
            "_view_count": null,
            "_view_module_version": "1.5.0",
            "description_tooltip": null,
            "_model_module": "@jupyter-widgets/controls",
            "layout": "IPY_MODEL_7517bb696e204043b5c2b25b45e45f1d"
          }
        },
        "e24d3b90f14143298d227d9db986a47b": {
          "model_module": "@jupyter-widgets/controls",
          "model_name": "DescriptionStyleModel",
          "model_module_version": "1.5.0",
          "state": {
            "_view_name": "StyleView",
            "_model_name": "DescriptionStyleModel",
            "description_width": "",
            "_view_module": "@jupyter-widgets/base",
            "_model_module_version": "1.5.0",
            "_view_count": null,
            "_view_module_version": "1.2.0",
            "_model_module": "@jupyter-widgets/controls"
          }
        },
        "b25561bebfae446682a8c0ac9362d145": {
          "model_module": "@jupyter-widgets/base",
          "model_name": "LayoutModel",
          "model_module_version": "1.2.0",
          "state": {
            "_view_name": "LayoutView",
            "grid_template_rows": null,
            "right": null,
            "justify_content": null,
            "_view_module": "@jupyter-widgets/base",
            "overflow": null,
            "_model_module_version": "1.2.0",
            "_view_count": null,
            "flex_flow": null,
            "width": null,
            "min_width": null,
            "border": null,
            "align_items": null,
            "bottom": null,
            "_model_module": "@jupyter-widgets/base",
            "top": null,
            "grid_column": null,
            "overflow_y": null,
            "overflow_x": null,
            "grid_auto_flow": null,
            "grid_area": null,
            "grid_template_columns": null,
            "flex": null,
            "_model_name": "LayoutModel",
            "justify_items": null,
            "grid_row": null,
            "max_height": null,
            "align_content": null,
            "visibility": null,
            "align_self": null,
            "height": null,
            "min_height": null,
            "padding": null,
            "grid_auto_rows": null,
            "grid_gap": null,
            "max_width": null,
            "order": null,
            "_view_module_version": "1.2.0",
            "grid_template_areas": null,
            "object_position": null,
            "object_fit": null,
            "grid_auto_columns": null,
            "margin": null,
            "display": null,
            "left": null
          }
        },
        "71281adf0df74036a4aa3f23c5867a2d": {
          "model_module": "@jupyter-widgets/controls",
          "model_name": "ProgressStyleModel",
          "model_module_version": "1.5.0",
          "state": {
            "_view_name": "StyleView",
            "_model_name": "ProgressStyleModel",
            "description_width": "",
            "_view_module": "@jupyter-widgets/base",
            "_model_module_version": "1.5.0",
            "_view_count": null,
            "_view_module_version": "1.2.0",
            "bar_color": null,
            "_model_module": "@jupyter-widgets/controls"
          }
        },
        "cd48378711d54eb0ab28fb12d922bf07": {
          "model_module": "@jupyter-widgets/base",
          "model_name": "LayoutModel",
          "model_module_version": "1.2.0",
          "state": {
            "_view_name": "LayoutView",
            "grid_template_rows": null,
            "right": null,
            "justify_content": null,
            "_view_module": "@jupyter-widgets/base",
            "overflow": null,
            "_model_module_version": "1.2.0",
            "_view_count": null,
            "flex_flow": null,
            "width": null,
            "min_width": null,
            "border": null,
            "align_items": null,
            "bottom": null,
            "_model_module": "@jupyter-widgets/base",
            "top": null,
            "grid_column": null,
            "overflow_y": null,
            "overflow_x": null,
            "grid_auto_flow": null,
            "grid_area": null,
            "grid_template_columns": null,
            "flex": null,
            "_model_name": "LayoutModel",
            "justify_items": null,
            "grid_row": null,
            "max_height": null,
            "align_content": null,
            "visibility": null,
            "align_self": null,
            "height": null,
            "min_height": null,
            "padding": null,
            "grid_auto_rows": null,
            "grid_gap": null,
            "max_width": null,
            "order": null,
            "_view_module_version": "1.2.0",
            "grid_template_areas": null,
            "object_position": null,
            "object_fit": null,
            "grid_auto_columns": null,
            "margin": null,
            "display": null,
            "left": null
          }
        },
        "c70804463cd94853a9e73bba9858cea5": {
          "model_module": "@jupyter-widgets/controls",
          "model_name": "DescriptionStyleModel",
          "model_module_version": "1.5.0",
          "state": {
            "_view_name": "StyleView",
            "_model_name": "DescriptionStyleModel",
            "description_width": "",
            "_view_module": "@jupyter-widgets/base",
            "_model_module_version": "1.5.0",
            "_view_count": null,
            "_view_module_version": "1.2.0",
            "_model_module": "@jupyter-widgets/controls"
          }
        },
        "7517bb696e204043b5c2b25b45e45f1d": {
          "model_module": "@jupyter-widgets/base",
          "model_name": "LayoutModel",
          "model_module_version": "1.2.0",
          "state": {
            "_view_name": "LayoutView",
            "grid_template_rows": null,
            "right": null,
            "justify_content": null,
            "_view_module": "@jupyter-widgets/base",
            "overflow": null,
            "_model_module_version": "1.2.0",
            "_view_count": null,
            "flex_flow": null,
            "width": null,
            "min_width": null,
            "border": null,
            "align_items": null,
            "bottom": null,
            "_model_module": "@jupyter-widgets/base",
            "top": null,
            "grid_column": null,
            "overflow_y": null,
            "overflow_x": null,
            "grid_auto_flow": null,
            "grid_area": null,
            "grid_template_columns": null,
            "flex": null,
            "_model_name": "LayoutModel",
            "justify_items": null,
            "grid_row": null,
            "max_height": null,
            "align_content": null,
            "visibility": null,
            "align_self": null,
            "height": null,
            "min_height": null,
            "padding": null,
            "grid_auto_rows": null,
            "grid_gap": null,
            "max_width": null,
            "order": null,
            "_view_module_version": "1.2.0",
            "grid_template_areas": null,
            "object_position": null,
            "object_fit": null,
            "grid_auto_columns": null,
            "margin": null,
            "display": null,
            "left": null
          }
        },
        "6de5085bead24574b3cf882f40d0d749": {
          "model_module": "@jupyter-widgets/controls",
          "model_name": "HBoxModel",
          "model_module_version": "1.5.0",
          "state": {
            "_view_name": "HBoxView",
            "_dom_classes": [],
            "_model_name": "HBoxModel",
            "_view_module": "@jupyter-widgets/controls",
            "_model_module_version": "1.5.0",
            "_view_count": null,
            "_view_module_version": "1.5.0",
            "box_style": "",
            "layout": "IPY_MODEL_42fa240ce34c45f488c508c4d1fb3bf4",
            "_model_module": "@jupyter-widgets/controls",
            "children": [
              "IPY_MODEL_084a2cf7d8df410887ed3d78a446bcc4",
              "IPY_MODEL_f563975ca09f44e4b1c096393859e9eb",
              "IPY_MODEL_5d8bc3628b6c42a98f4cc73510910964"
            ]
          }
        },
        "42fa240ce34c45f488c508c4d1fb3bf4": {
          "model_module": "@jupyter-widgets/base",
          "model_name": "LayoutModel",
          "model_module_version": "1.2.0",
          "state": {
            "_view_name": "LayoutView",
            "grid_template_rows": null,
            "right": null,
            "justify_content": null,
            "_view_module": "@jupyter-widgets/base",
            "overflow": null,
            "_model_module_version": "1.2.0",
            "_view_count": null,
            "flex_flow": null,
            "width": null,
            "min_width": null,
            "border": null,
            "align_items": null,
            "bottom": null,
            "_model_module": "@jupyter-widgets/base",
            "top": null,
            "grid_column": null,
            "overflow_y": null,
            "overflow_x": null,
            "grid_auto_flow": null,
            "grid_area": null,
            "grid_template_columns": null,
            "flex": null,
            "_model_name": "LayoutModel",
            "justify_items": null,
            "grid_row": null,
            "max_height": null,
            "align_content": null,
            "visibility": null,
            "align_self": null,
            "height": null,
            "min_height": null,
            "padding": null,
            "grid_auto_rows": null,
            "grid_gap": null,
            "max_width": null,
            "order": null,
            "_view_module_version": "1.2.0",
            "grid_template_areas": null,
            "object_position": null,
            "object_fit": null,
            "grid_auto_columns": null,
            "margin": null,
            "display": null,
            "left": null
          }
        },
        "084a2cf7d8df410887ed3d78a446bcc4": {
          "model_module": "@jupyter-widgets/controls",
          "model_name": "HTMLModel",
          "model_module_version": "1.5.0",
          "state": {
            "_view_name": "HTMLView",
            "style": "IPY_MODEL_9112a32223ee4485bce87e72a2e8e229",
            "_dom_classes": [],
            "description": "",
            "_model_name": "HTMLModel",
            "placeholder": "​",
            "_view_module": "@jupyter-widgets/controls",
            "_model_module_version": "1.5.0",
            "value": "100%",
            "_view_count": null,
            "_view_module_version": "1.5.0",
            "description_tooltip": null,
            "_model_module": "@jupyter-widgets/controls",
            "layout": "IPY_MODEL_1ec3bb25da6148c19ab4a1eae16483d5"
          }
        },
        "f563975ca09f44e4b1c096393859e9eb": {
          "model_module": "@jupyter-widgets/controls",
          "model_name": "FloatProgressModel",
          "model_module_version": "1.5.0",
          "state": {
            "_view_name": "ProgressView",
            "style": "IPY_MODEL_537d36cba5b54a7a9edd37dbf7512bbb",
            "_dom_classes": [],
            "description": "",
            "_model_name": "FloatProgressModel",
            "bar_style": "success",
            "max": 8675,
            "_view_module": "@jupyter-widgets/controls",
            "_model_module_version": "1.5.0",
            "value": 8675,
            "_view_count": null,
            "_view_module_version": "1.5.0",
            "orientation": "horizontal",
            "min": 0,
            "description_tooltip": null,
            "_model_module": "@jupyter-widgets/controls",
            "layout": "IPY_MODEL_246addfd2a8b4828bc62428f98cd818d"
          }
        },
        "5d8bc3628b6c42a98f4cc73510910964": {
          "model_module": "@jupyter-widgets/controls",
          "model_name": "HTMLModel",
          "model_module_version": "1.5.0",
          "state": {
            "_view_name": "HTMLView",
            "style": "IPY_MODEL_9d0dfe2e24a342eaa48ae85697c80b67",
            "_dom_classes": [],
            "description": "",
            "_model_name": "HTMLModel",
            "placeholder": "​",
            "_view_module": "@jupyter-widgets/controls",
            "_model_module_version": "1.5.0",
            "value": " 8675/8675 [00:02&lt;00:00, 3021.61it/s]",
            "_view_count": null,
            "_view_module_version": "1.5.0",
            "description_tooltip": null,
            "_model_module": "@jupyter-widgets/controls",
            "layout": "IPY_MODEL_1227a8d416e146e19ec8856e044728cd"
          }
        },
        "9112a32223ee4485bce87e72a2e8e229": {
          "model_module": "@jupyter-widgets/controls",
          "model_name": "DescriptionStyleModel",
          "model_module_version": "1.5.0",
          "state": {
            "_view_name": "StyleView",
            "_model_name": "DescriptionStyleModel",
            "description_width": "",
            "_view_module": "@jupyter-widgets/base",
            "_model_module_version": "1.5.0",
            "_view_count": null,
            "_view_module_version": "1.2.0",
            "_model_module": "@jupyter-widgets/controls"
          }
        },
        "1ec3bb25da6148c19ab4a1eae16483d5": {
          "model_module": "@jupyter-widgets/base",
          "model_name": "LayoutModel",
          "model_module_version": "1.2.0",
          "state": {
            "_view_name": "LayoutView",
            "grid_template_rows": null,
            "right": null,
            "justify_content": null,
            "_view_module": "@jupyter-widgets/base",
            "overflow": null,
            "_model_module_version": "1.2.0",
            "_view_count": null,
            "flex_flow": null,
            "width": null,
            "min_width": null,
            "border": null,
            "align_items": null,
            "bottom": null,
            "_model_module": "@jupyter-widgets/base",
            "top": null,
            "grid_column": null,
            "overflow_y": null,
            "overflow_x": null,
            "grid_auto_flow": null,
            "grid_area": null,
            "grid_template_columns": null,
            "flex": null,
            "_model_name": "LayoutModel",
            "justify_items": null,
            "grid_row": null,
            "max_height": null,
            "align_content": null,
            "visibility": null,
            "align_self": null,
            "height": null,
            "min_height": null,
            "padding": null,
            "grid_auto_rows": null,
            "grid_gap": null,
            "max_width": null,
            "order": null,
            "_view_module_version": "1.2.0",
            "grid_template_areas": null,
            "object_position": null,
            "object_fit": null,
            "grid_auto_columns": null,
            "margin": null,
            "display": null,
            "left": null
          }
        },
        "537d36cba5b54a7a9edd37dbf7512bbb": {
          "model_module": "@jupyter-widgets/controls",
          "model_name": "ProgressStyleModel",
          "model_module_version": "1.5.0",
          "state": {
            "_view_name": "StyleView",
            "_model_name": "ProgressStyleModel",
            "description_width": "",
            "_view_module": "@jupyter-widgets/base",
            "_model_module_version": "1.5.0",
            "_view_count": null,
            "_view_module_version": "1.2.0",
            "bar_color": null,
            "_model_module": "@jupyter-widgets/controls"
          }
        },
        "246addfd2a8b4828bc62428f98cd818d": {
          "model_module": "@jupyter-widgets/base",
          "model_name": "LayoutModel",
          "model_module_version": "1.2.0",
          "state": {
            "_view_name": "LayoutView",
            "grid_template_rows": null,
            "right": null,
            "justify_content": null,
            "_view_module": "@jupyter-widgets/base",
            "overflow": null,
            "_model_module_version": "1.2.0",
            "_view_count": null,
            "flex_flow": null,
            "width": null,
            "min_width": null,
            "border": null,
            "align_items": null,
            "bottom": null,
            "_model_module": "@jupyter-widgets/base",
            "top": null,
            "grid_column": null,
            "overflow_y": null,
            "overflow_x": null,
            "grid_auto_flow": null,
            "grid_area": null,
            "grid_template_columns": null,
            "flex": null,
            "_model_name": "LayoutModel",
            "justify_items": null,
            "grid_row": null,
            "max_height": null,
            "align_content": null,
            "visibility": null,
            "align_self": null,
            "height": null,
            "min_height": null,
            "padding": null,
            "grid_auto_rows": null,
            "grid_gap": null,
            "max_width": null,
            "order": null,
            "_view_module_version": "1.2.0",
            "grid_template_areas": null,
            "object_position": null,
            "object_fit": null,
            "grid_auto_columns": null,
            "margin": null,
            "display": null,
            "left": null
          }
        },
        "9d0dfe2e24a342eaa48ae85697c80b67": {
          "model_module": "@jupyter-widgets/controls",
          "model_name": "DescriptionStyleModel",
          "model_module_version": "1.5.0",
          "state": {
            "_view_name": "StyleView",
            "_model_name": "DescriptionStyleModel",
            "description_width": "",
            "_view_module": "@jupyter-widgets/base",
            "_model_module_version": "1.5.0",
            "_view_count": null,
            "_view_module_version": "1.2.0",
            "_model_module": "@jupyter-widgets/controls"
          }
        },
        "1227a8d416e146e19ec8856e044728cd": {
          "model_module": "@jupyter-widgets/base",
          "model_name": "LayoutModel",
          "model_module_version": "1.2.0",
          "state": {
            "_view_name": "LayoutView",
            "grid_template_rows": null,
            "right": null,
            "justify_content": null,
            "_view_module": "@jupyter-widgets/base",
            "overflow": null,
            "_model_module_version": "1.2.0",
            "_view_count": null,
            "flex_flow": null,
            "width": null,
            "min_width": null,
            "border": null,
            "align_items": null,
            "bottom": null,
            "_model_module": "@jupyter-widgets/base",
            "top": null,
            "grid_column": null,
            "overflow_y": null,
            "overflow_x": null,
            "grid_auto_flow": null,
            "grid_area": null,
            "grid_template_columns": null,
            "flex": null,
            "_model_name": "LayoutModel",
            "justify_items": null,
            "grid_row": null,
            "max_height": null,
            "align_content": null,
            "visibility": null,
            "align_self": null,
            "height": null,
            "min_height": null,
            "padding": null,
            "grid_auto_rows": null,
            "grid_gap": null,
            "max_width": null,
            "order": null,
            "_view_module_version": "1.2.0",
            "grid_template_areas": null,
            "object_position": null,
            "object_fit": null,
            "grid_auto_columns": null,
            "margin": null,
            "display": null,
            "left": null
          }
        },
        "8fe2bc4e32c747f99b0324d5f61f69c4": {
          "model_module": "@jupyter-widgets/controls",
          "model_name": "HBoxModel",
          "model_module_version": "1.5.0",
          "state": {
            "_view_name": "HBoxView",
            "_dom_classes": [],
            "_model_name": "HBoxModel",
            "_view_module": "@jupyter-widgets/controls",
            "_model_module_version": "1.5.0",
            "_view_count": null,
            "_view_module_version": "1.5.0",
            "box_style": "",
            "layout": "IPY_MODEL_a223a6a3814b4da4ad34b646d02cf8a5",
            "_model_module": "@jupyter-widgets/controls",
            "children": [
              "IPY_MODEL_9d6f8fc684b64825b107d51025eb220a",
              "IPY_MODEL_0164f3048afe4d22ac8254fb2595bfbf",
              "IPY_MODEL_02fdd2934a6c4c2989c72c9d2ea4f0aa"
            ]
          }
        },
        "a223a6a3814b4da4ad34b646d02cf8a5": {
          "model_module": "@jupyter-widgets/base",
          "model_name": "LayoutModel",
          "model_module_version": "1.2.0",
          "state": {
            "_view_name": "LayoutView",
            "grid_template_rows": null,
            "right": null,
            "justify_content": null,
            "_view_module": "@jupyter-widgets/base",
            "overflow": null,
            "_model_module_version": "1.2.0",
            "_view_count": null,
            "flex_flow": null,
            "width": null,
            "min_width": null,
            "border": null,
            "align_items": null,
            "bottom": null,
            "_model_module": "@jupyter-widgets/base",
            "top": null,
            "grid_column": null,
            "overflow_y": null,
            "overflow_x": null,
            "grid_auto_flow": null,
            "grid_area": null,
            "grid_template_columns": null,
            "flex": null,
            "_model_name": "LayoutModel",
            "justify_items": null,
            "grid_row": null,
            "max_height": null,
            "align_content": null,
            "visibility": null,
            "align_self": null,
            "height": null,
            "min_height": null,
            "padding": null,
            "grid_auto_rows": null,
            "grid_gap": null,
            "max_width": null,
            "order": null,
            "_view_module_version": "1.2.0",
            "grid_template_areas": null,
            "object_position": null,
            "object_fit": null,
            "grid_auto_columns": null,
            "margin": null,
            "display": null,
            "left": null
          }
        },
        "9d6f8fc684b64825b107d51025eb220a": {
          "model_module": "@jupyter-widgets/controls",
          "model_name": "HTMLModel",
          "model_module_version": "1.5.0",
          "state": {
            "_view_name": "HTMLView",
            "style": "IPY_MODEL_8527f994618f45df8bedf37e806f1269",
            "_dom_classes": [],
            "description": "",
            "_model_name": "HTMLModel",
            "placeholder": "​",
            "_view_module": "@jupyter-widgets/controls",
            "_model_module_version": "1.5.0",
            "value": "100%",
            "_view_count": null,
            "_view_module_version": "1.5.0",
            "description_tooltip": null,
            "_model_module": "@jupyter-widgets/controls",
            "layout": "IPY_MODEL_79f2e67fb4c046aabe91007005966ebc"
          }
        },
        "0164f3048afe4d22ac8254fb2595bfbf": {
          "model_module": "@jupyter-widgets/controls",
          "model_name": "FloatProgressModel",
          "model_module_version": "1.5.0",
          "state": {
            "_view_name": "ProgressView",
            "style": "IPY_MODEL_325e61be4cd34a059664ed01e418a93d",
            "_dom_classes": [],
            "description": "",
            "_model_name": "FloatProgressModel",
            "bar_style": "success",
            "max": 8675,
            "_view_module": "@jupyter-widgets/controls",
            "_model_module_version": "1.5.0",
            "value": 8675,
            "_view_count": null,
            "_view_module_version": "1.5.0",
            "orientation": "horizontal",
            "min": 0,
            "description_tooltip": null,
            "_model_module": "@jupyter-widgets/controls",
            "layout": "IPY_MODEL_70482b11163d4f2ba6bafadc9ac22a5b"
          }
        },
        "02fdd2934a6c4c2989c72c9d2ea4f0aa": {
          "model_module": "@jupyter-widgets/controls",
          "model_name": "HTMLModel",
          "model_module_version": "1.5.0",
          "state": {
            "_view_name": "HTMLView",
            "style": "IPY_MODEL_7b59cca1479d4b30aca03568d8d463d9",
            "_dom_classes": [],
            "description": "",
            "_model_name": "HTMLModel",
            "placeholder": "​",
            "_view_module": "@jupyter-widgets/controls",
            "_model_module_version": "1.5.0",
            "value": " 8675/8675 [00:03&lt;00:00, 2232.43it/s]",
            "_view_count": null,
            "_view_module_version": "1.5.0",
            "description_tooltip": null,
            "_model_module": "@jupyter-widgets/controls",
            "layout": "IPY_MODEL_7809dc3ab24b42978f19a28750432d70"
          }
        },
        "8527f994618f45df8bedf37e806f1269": {
          "model_module": "@jupyter-widgets/controls",
          "model_name": "DescriptionStyleModel",
          "model_module_version": "1.5.0",
          "state": {
            "_view_name": "StyleView",
            "_model_name": "DescriptionStyleModel",
            "description_width": "",
            "_view_module": "@jupyter-widgets/base",
            "_model_module_version": "1.5.0",
            "_view_count": null,
            "_view_module_version": "1.2.0",
            "_model_module": "@jupyter-widgets/controls"
          }
        },
        "79f2e67fb4c046aabe91007005966ebc": {
          "model_module": "@jupyter-widgets/base",
          "model_name": "LayoutModel",
          "model_module_version": "1.2.0",
          "state": {
            "_view_name": "LayoutView",
            "grid_template_rows": null,
            "right": null,
            "justify_content": null,
            "_view_module": "@jupyter-widgets/base",
            "overflow": null,
            "_model_module_version": "1.2.0",
            "_view_count": null,
            "flex_flow": null,
            "width": null,
            "min_width": null,
            "border": null,
            "align_items": null,
            "bottom": null,
            "_model_module": "@jupyter-widgets/base",
            "top": null,
            "grid_column": null,
            "overflow_y": null,
            "overflow_x": null,
            "grid_auto_flow": null,
            "grid_area": null,
            "grid_template_columns": null,
            "flex": null,
            "_model_name": "LayoutModel",
            "justify_items": null,
            "grid_row": null,
            "max_height": null,
            "align_content": null,
            "visibility": null,
            "align_self": null,
            "height": null,
            "min_height": null,
            "padding": null,
            "grid_auto_rows": null,
            "grid_gap": null,
            "max_width": null,
            "order": null,
            "_view_module_version": "1.2.0",
            "grid_template_areas": null,
            "object_position": null,
            "object_fit": null,
            "grid_auto_columns": null,
            "margin": null,
            "display": null,
            "left": null
          }
        },
        "325e61be4cd34a059664ed01e418a93d": {
          "model_module": "@jupyter-widgets/controls",
          "model_name": "ProgressStyleModel",
          "model_module_version": "1.5.0",
          "state": {
            "_view_name": "StyleView",
            "_model_name": "ProgressStyleModel",
            "description_width": "",
            "_view_module": "@jupyter-widgets/base",
            "_model_module_version": "1.5.0",
            "_view_count": null,
            "_view_module_version": "1.2.0",
            "bar_color": null,
            "_model_module": "@jupyter-widgets/controls"
          }
        },
        "70482b11163d4f2ba6bafadc9ac22a5b": {
          "model_module": "@jupyter-widgets/base",
          "model_name": "LayoutModel",
          "model_module_version": "1.2.0",
          "state": {
            "_view_name": "LayoutView",
            "grid_template_rows": null,
            "right": null,
            "justify_content": null,
            "_view_module": "@jupyter-widgets/base",
            "overflow": null,
            "_model_module_version": "1.2.0",
            "_view_count": null,
            "flex_flow": null,
            "width": null,
            "min_width": null,
            "border": null,
            "align_items": null,
            "bottom": null,
            "_model_module": "@jupyter-widgets/base",
            "top": null,
            "grid_column": null,
            "overflow_y": null,
            "overflow_x": null,
            "grid_auto_flow": null,
            "grid_area": null,
            "grid_template_columns": null,
            "flex": null,
            "_model_name": "LayoutModel",
            "justify_items": null,
            "grid_row": null,
            "max_height": null,
            "align_content": null,
            "visibility": null,
            "align_self": null,
            "height": null,
            "min_height": null,
            "padding": null,
            "grid_auto_rows": null,
            "grid_gap": null,
            "max_width": null,
            "order": null,
            "_view_module_version": "1.2.0",
            "grid_template_areas": null,
            "object_position": null,
            "object_fit": null,
            "grid_auto_columns": null,
            "margin": null,
            "display": null,
            "left": null
          }
        },
        "7b59cca1479d4b30aca03568d8d463d9": {
          "model_module": "@jupyter-widgets/controls",
          "model_name": "DescriptionStyleModel",
          "model_module_version": "1.5.0",
          "state": {
            "_view_name": "StyleView",
            "_model_name": "DescriptionStyleModel",
            "description_width": "",
            "_view_module": "@jupyter-widgets/base",
            "_model_module_version": "1.5.0",
            "_view_count": null,
            "_view_module_version": "1.2.0",
            "_model_module": "@jupyter-widgets/controls"
          }
        },
        "7809dc3ab24b42978f19a28750432d70": {
          "model_module": "@jupyter-widgets/base",
          "model_name": "LayoutModel",
          "model_module_version": "1.2.0",
          "state": {
            "_view_name": "LayoutView",
            "grid_template_rows": null,
            "right": null,
            "justify_content": null,
            "_view_module": "@jupyter-widgets/base",
            "overflow": null,
            "_model_module_version": "1.2.0",
            "_view_count": null,
            "flex_flow": null,
            "width": null,
            "min_width": null,
            "border": null,
            "align_items": null,
            "bottom": null,
            "_model_module": "@jupyter-widgets/base",
            "top": null,
            "grid_column": null,
            "overflow_y": null,
            "overflow_x": null,
            "grid_auto_flow": null,
            "grid_area": null,
            "grid_template_columns": null,
            "flex": null,
            "_model_name": "LayoutModel",
            "justify_items": null,
            "grid_row": null,
            "max_height": null,
            "align_content": null,
            "visibility": null,
            "align_self": null,
            "height": null,
            "min_height": null,
            "padding": null,
            "grid_auto_rows": null,
            "grid_gap": null,
            "max_width": null,
            "order": null,
            "_view_module_version": "1.2.0",
            "grid_template_areas": null,
            "object_position": null,
            "object_fit": null,
            "grid_auto_columns": null,
            "margin": null,
            "display": null,
            "left": null
          }
        },
        "a874007859b24c04baa0488bed0563ef": {
          "model_module": "@jupyter-widgets/controls",
          "model_name": "HBoxModel",
          "model_module_version": "1.5.0",
          "state": {
            "_view_name": "HBoxView",
            "_dom_classes": [],
            "_model_name": "HBoxModel",
            "_view_module": "@jupyter-widgets/controls",
            "_model_module_version": "1.5.0",
            "_view_count": null,
            "_view_module_version": "1.5.0",
            "box_style": "",
            "layout": "IPY_MODEL_bcdddf3eca4346209d19511d996a16d6",
            "_model_module": "@jupyter-widgets/controls",
            "children": [
              "IPY_MODEL_43cd5a2cf4ca4be6bfe072eb75ef2efc",
              "IPY_MODEL_b82e43959247461691ddc644bf6e5dc9",
              "IPY_MODEL_b33e3efead2847a897713def303f70d4"
            ]
          }
        },
        "bcdddf3eca4346209d19511d996a16d6": {
          "model_module": "@jupyter-widgets/base",
          "model_name": "LayoutModel",
          "model_module_version": "1.2.0",
          "state": {
            "_view_name": "LayoutView",
            "grid_template_rows": null,
            "right": null,
            "justify_content": null,
            "_view_module": "@jupyter-widgets/base",
            "overflow": null,
            "_model_module_version": "1.2.0",
            "_view_count": null,
            "flex_flow": null,
            "width": null,
            "min_width": null,
            "border": null,
            "align_items": null,
            "bottom": null,
            "_model_module": "@jupyter-widgets/base",
            "top": null,
            "grid_column": null,
            "overflow_y": null,
            "overflow_x": null,
            "grid_auto_flow": null,
            "grid_area": null,
            "grid_template_columns": null,
            "flex": null,
            "_model_name": "LayoutModel",
            "justify_items": null,
            "grid_row": null,
            "max_height": null,
            "align_content": null,
            "visibility": null,
            "align_self": null,
            "height": null,
            "min_height": null,
            "padding": null,
            "grid_auto_rows": null,
            "grid_gap": null,
            "max_width": null,
            "order": null,
            "_view_module_version": "1.2.0",
            "grid_template_areas": null,
            "object_position": null,
            "object_fit": null,
            "grid_auto_columns": null,
            "margin": null,
            "display": null,
            "left": null
          }
        },
        "43cd5a2cf4ca4be6bfe072eb75ef2efc": {
          "model_module": "@jupyter-widgets/controls",
          "model_name": "HTMLModel",
          "model_module_version": "1.5.0",
          "state": {
            "_view_name": "HTMLView",
            "style": "IPY_MODEL_0325f94e8f744d63b685189224a61260",
            "_dom_classes": [],
            "description": "",
            "_model_name": "HTMLModel",
            "placeholder": "​",
            "_view_module": "@jupyter-widgets/controls",
            "_model_module_version": "1.5.0",
            "value": "100%",
            "_view_count": null,
            "_view_module_version": "1.5.0",
            "description_tooltip": null,
            "_model_module": "@jupyter-widgets/controls",
            "layout": "IPY_MODEL_74911959b80442c08dda360451f62e91"
          }
        },
        "b82e43959247461691ddc644bf6e5dc9": {
          "model_module": "@jupyter-widgets/controls",
          "model_name": "FloatProgressModel",
          "model_module_version": "1.5.0",
          "state": {
            "_view_name": "ProgressView",
            "style": "IPY_MODEL_cf3c1c1343204f26b9e8048569f96c35",
            "_dom_classes": [],
            "description": "",
            "_model_name": "FloatProgressModel",
            "bar_style": "success",
            "max": 8675,
            "_view_module": "@jupyter-widgets/controls",
            "_model_module_version": "1.5.0",
            "value": 8675,
            "_view_count": null,
            "_view_module_version": "1.5.0",
            "orientation": "horizontal",
            "min": 0,
            "description_tooltip": null,
            "_model_module": "@jupyter-widgets/controls",
            "layout": "IPY_MODEL_d1d673b5067b4e63aba618a4d2049d56"
          }
        },
        "b33e3efead2847a897713def303f70d4": {
          "model_module": "@jupyter-widgets/controls",
          "model_name": "HTMLModel",
          "model_module_version": "1.5.0",
          "state": {
            "_view_name": "HTMLView",
            "style": "IPY_MODEL_1b8f7969c5274d758d35ad2cb3b85d34",
            "_dom_classes": [],
            "description": "",
            "_model_name": "HTMLModel",
            "placeholder": "​",
            "_view_module": "@jupyter-widgets/controls",
            "_model_module_version": "1.5.0",
            "value": " 8675/8675 [00:00&lt;00:00, 10306.72it/s]",
            "_view_count": null,
            "_view_module_version": "1.5.0",
            "description_tooltip": null,
            "_model_module": "@jupyter-widgets/controls",
            "layout": "IPY_MODEL_9cc24933461e43c5979468c03fb75271"
          }
        },
        "0325f94e8f744d63b685189224a61260": {
          "model_module": "@jupyter-widgets/controls",
          "model_name": "DescriptionStyleModel",
          "model_module_version": "1.5.0",
          "state": {
            "_view_name": "StyleView",
            "_model_name": "DescriptionStyleModel",
            "description_width": "",
            "_view_module": "@jupyter-widgets/base",
            "_model_module_version": "1.5.0",
            "_view_count": null,
            "_view_module_version": "1.2.0",
            "_model_module": "@jupyter-widgets/controls"
          }
        },
        "74911959b80442c08dda360451f62e91": {
          "model_module": "@jupyter-widgets/base",
          "model_name": "LayoutModel",
          "model_module_version": "1.2.0",
          "state": {
            "_view_name": "LayoutView",
            "grid_template_rows": null,
            "right": null,
            "justify_content": null,
            "_view_module": "@jupyter-widgets/base",
            "overflow": null,
            "_model_module_version": "1.2.0",
            "_view_count": null,
            "flex_flow": null,
            "width": null,
            "min_width": null,
            "border": null,
            "align_items": null,
            "bottom": null,
            "_model_module": "@jupyter-widgets/base",
            "top": null,
            "grid_column": null,
            "overflow_y": null,
            "overflow_x": null,
            "grid_auto_flow": null,
            "grid_area": null,
            "grid_template_columns": null,
            "flex": null,
            "_model_name": "LayoutModel",
            "justify_items": null,
            "grid_row": null,
            "max_height": null,
            "align_content": null,
            "visibility": null,
            "align_self": null,
            "height": null,
            "min_height": null,
            "padding": null,
            "grid_auto_rows": null,
            "grid_gap": null,
            "max_width": null,
            "order": null,
            "_view_module_version": "1.2.0",
            "grid_template_areas": null,
            "object_position": null,
            "object_fit": null,
            "grid_auto_columns": null,
            "margin": null,
            "display": null,
            "left": null
          }
        },
        "cf3c1c1343204f26b9e8048569f96c35": {
          "model_module": "@jupyter-widgets/controls",
          "model_name": "ProgressStyleModel",
          "model_module_version": "1.5.0",
          "state": {
            "_view_name": "StyleView",
            "_model_name": "ProgressStyleModel",
            "description_width": "",
            "_view_module": "@jupyter-widgets/base",
            "_model_module_version": "1.5.0",
            "_view_count": null,
            "_view_module_version": "1.2.0",
            "bar_color": null,
            "_model_module": "@jupyter-widgets/controls"
          }
        },
        "d1d673b5067b4e63aba618a4d2049d56": {
          "model_module": "@jupyter-widgets/base",
          "model_name": "LayoutModel",
          "model_module_version": "1.2.0",
          "state": {
            "_view_name": "LayoutView",
            "grid_template_rows": null,
            "right": null,
            "justify_content": null,
            "_view_module": "@jupyter-widgets/base",
            "overflow": null,
            "_model_module_version": "1.2.0",
            "_view_count": null,
            "flex_flow": null,
            "width": null,
            "min_width": null,
            "border": null,
            "align_items": null,
            "bottom": null,
            "_model_module": "@jupyter-widgets/base",
            "top": null,
            "grid_column": null,
            "overflow_y": null,
            "overflow_x": null,
            "grid_auto_flow": null,
            "grid_area": null,
            "grid_template_columns": null,
            "flex": null,
            "_model_name": "LayoutModel",
            "justify_items": null,
            "grid_row": null,
            "max_height": null,
            "align_content": null,
            "visibility": null,
            "align_self": null,
            "height": null,
            "min_height": null,
            "padding": null,
            "grid_auto_rows": null,
            "grid_gap": null,
            "max_width": null,
            "order": null,
            "_view_module_version": "1.2.0",
            "grid_template_areas": null,
            "object_position": null,
            "object_fit": null,
            "grid_auto_columns": null,
            "margin": null,
            "display": null,
            "left": null
          }
        },
        "1b8f7969c5274d758d35ad2cb3b85d34": {
          "model_module": "@jupyter-widgets/controls",
          "model_name": "DescriptionStyleModel",
          "model_module_version": "1.5.0",
          "state": {
            "_view_name": "StyleView",
            "_model_name": "DescriptionStyleModel",
            "description_width": "",
            "_view_module": "@jupyter-widgets/base",
            "_model_module_version": "1.5.0",
            "_view_count": null,
            "_view_module_version": "1.2.0",
            "_model_module": "@jupyter-widgets/controls"
          }
        },
        "9cc24933461e43c5979468c03fb75271": {
          "model_module": "@jupyter-widgets/base",
          "model_name": "LayoutModel",
          "model_module_version": "1.2.0",
          "state": {
            "_view_name": "LayoutView",
            "grid_template_rows": null,
            "right": null,
            "justify_content": null,
            "_view_module": "@jupyter-widgets/base",
            "overflow": null,
            "_model_module_version": "1.2.0",
            "_view_count": null,
            "flex_flow": null,
            "width": null,
            "min_width": null,
            "border": null,
            "align_items": null,
            "bottom": null,
            "_model_module": "@jupyter-widgets/base",
            "top": null,
            "grid_column": null,
            "overflow_y": null,
            "overflow_x": null,
            "grid_auto_flow": null,
            "grid_area": null,
            "grid_template_columns": null,
            "flex": null,
            "_model_name": "LayoutModel",
            "justify_items": null,
            "grid_row": null,
            "max_height": null,
            "align_content": null,
            "visibility": null,
            "align_self": null,
            "height": null,
            "min_height": null,
            "padding": null,
            "grid_auto_rows": null,
            "grid_gap": null,
            "max_width": null,
            "order": null,
            "_view_module_version": "1.2.0",
            "grid_template_areas": null,
            "object_position": null,
            "object_fit": null,
            "grid_auto_columns": null,
            "margin": null,
            "display": null,
            "left": null
          }
        },
        "2d6c5fcbdaaf4b4b88a31a95ab541585": {
          "model_module": "@jupyter-widgets/controls",
          "model_name": "HBoxModel",
          "model_module_version": "1.5.0",
          "state": {
            "_view_name": "HBoxView",
            "_dom_classes": [],
            "_model_name": "HBoxModel",
            "_view_module": "@jupyter-widgets/controls",
            "_model_module_version": "1.5.0",
            "_view_count": null,
            "_view_module_version": "1.5.0",
            "box_style": "",
            "layout": "IPY_MODEL_d86e40f372eb49e0877dc8616fed33db",
            "_model_module": "@jupyter-widgets/controls",
            "children": [
              "IPY_MODEL_3170c2bd6fd94e6c9c95e9d4a63b9aee",
              "IPY_MODEL_a55bab17cb7d420987a942b300e0b926",
              "IPY_MODEL_8ece9f8d3ce64bf086794011c9d53ed5"
            ]
          }
        },
        "d86e40f372eb49e0877dc8616fed33db": {
          "model_module": "@jupyter-widgets/base",
          "model_name": "LayoutModel",
          "model_module_version": "1.2.0",
          "state": {
            "_view_name": "LayoutView",
            "grid_template_rows": null,
            "right": null,
            "justify_content": null,
            "_view_module": "@jupyter-widgets/base",
            "overflow": null,
            "_model_module_version": "1.2.0",
            "_view_count": null,
            "flex_flow": null,
            "width": null,
            "min_width": null,
            "border": null,
            "align_items": null,
            "bottom": null,
            "_model_module": "@jupyter-widgets/base",
            "top": null,
            "grid_column": null,
            "overflow_y": null,
            "overflow_x": null,
            "grid_auto_flow": null,
            "grid_area": null,
            "grid_template_columns": null,
            "flex": null,
            "_model_name": "LayoutModel",
            "justify_items": null,
            "grid_row": null,
            "max_height": null,
            "align_content": null,
            "visibility": null,
            "align_self": null,
            "height": null,
            "min_height": null,
            "padding": null,
            "grid_auto_rows": null,
            "grid_gap": null,
            "max_width": null,
            "order": null,
            "_view_module_version": "1.2.0",
            "grid_template_areas": null,
            "object_position": null,
            "object_fit": null,
            "grid_auto_columns": null,
            "margin": null,
            "display": null,
            "left": null
          }
        },
        "3170c2bd6fd94e6c9c95e9d4a63b9aee": {
          "model_module": "@jupyter-widgets/controls",
          "model_name": "HTMLModel",
          "model_module_version": "1.5.0",
          "state": {
            "_view_name": "HTMLView",
            "style": "IPY_MODEL_e1a9c75ead574424bb1557022c239163",
            "_dom_classes": [],
            "description": "",
            "_model_name": "HTMLModel",
            "placeholder": "​",
            "_view_module": "@jupyter-widgets/controls",
            "_model_module_version": "1.5.0",
            "value": "100%",
            "_view_count": null,
            "_view_module_version": "1.5.0",
            "description_tooltip": null,
            "_model_module": "@jupyter-widgets/controls",
            "layout": "IPY_MODEL_b972cfbb56d548638464aee6bae80312"
          }
        },
        "a55bab17cb7d420987a942b300e0b926": {
          "model_module": "@jupyter-widgets/controls",
          "model_name": "FloatProgressModel",
          "model_module_version": "1.5.0",
          "state": {
            "_view_name": "ProgressView",
            "style": "IPY_MODEL_3d8c541b931e4bb1b0a1a41e116a7870",
            "_dom_classes": [],
            "description": "",
            "_model_name": "FloatProgressModel",
            "bar_style": "success",
            "max": 8675,
            "_view_module": "@jupyter-widgets/controls",
            "_model_module_version": "1.5.0",
            "value": 8675,
            "_view_count": null,
            "_view_module_version": "1.5.0",
            "orientation": "horizontal",
            "min": 0,
            "description_tooltip": null,
            "_model_module": "@jupyter-widgets/controls",
            "layout": "IPY_MODEL_7ebe962d25e2404aa41e46edd613757c"
          }
        },
        "8ece9f8d3ce64bf086794011c9d53ed5": {
          "model_module": "@jupyter-widgets/controls",
          "model_name": "HTMLModel",
          "model_module_version": "1.5.0",
          "state": {
            "_view_name": "HTMLView",
            "style": "IPY_MODEL_b371f97658d644b2b6573b0440a7828f",
            "_dom_classes": [],
            "description": "",
            "_model_name": "HTMLModel",
            "placeholder": "​",
            "_view_module": "@jupyter-widgets/controls",
            "_model_module_version": "1.5.0",
            "value": " 8675/8675 [00:02&lt;00:00, 3872.00it/s]",
            "_view_count": null,
            "_view_module_version": "1.5.0",
            "description_tooltip": null,
            "_model_module": "@jupyter-widgets/controls",
            "layout": "IPY_MODEL_c73ff0dca9b64d1e9fc574c6cefa26d5"
          }
        },
        "e1a9c75ead574424bb1557022c239163": {
          "model_module": "@jupyter-widgets/controls",
          "model_name": "DescriptionStyleModel",
          "model_module_version": "1.5.0",
          "state": {
            "_view_name": "StyleView",
            "_model_name": "DescriptionStyleModel",
            "description_width": "",
            "_view_module": "@jupyter-widgets/base",
            "_model_module_version": "1.5.0",
            "_view_count": null,
            "_view_module_version": "1.2.0",
            "_model_module": "@jupyter-widgets/controls"
          }
        },
        "b972cfbb56d548638464aee6bae80312": {
          "model_module": "@jupyter-widgets/base",
          "model_name": "LayoutModel",
          "model_module_version": "1.2.0",
          "state": {
            "_view_name": "LayoutView",
            "grid_template_rows": null,
            "right": null,
            "justify_content": null,
            "_view_module": "@jupyter-widgets/base",
            "overflow": null,
            "_model_module_version": "1.2.0",
            "_view_count": null,
            "flex_flow": null,
            "width": null,
            "min_width": null,
            "border": null,
            "align_items": null,
            "bottom": null,
            "_model_module": "@jupyter-widgets/base",
            "top": null,
            "grid_column": null,
            "overflow_y": null,
            "overflow_x": null,
            "grid_auto_flow": null,
            "grid_area": null,
            "grid_template_columns": null,
            "flex": null,
            "_model_name": "LayoutModel",
            "justify_items": null,
            "grid_row": null,
            "max_height": null,
            "align_content": null,
            "visibility": null,
            "align_self": null,
            "height": null,
            "min_height": null,
            "padding": null,
            "grid_auto_rows": null,
            "grid_gap": null,
            "max_width": null,
            "order": null,
            "_view_module_version": "1.2.0",
            "grid_template_areas": null,
            "object_position": null,
            "object_fit": null,
            "grid_auto_columns": null,
            "margin": null,
            "display": null,
            "left": null
          }
        },
        "3d8c541b931e4bb1b0a1a41e116a7870": {
          "model_module": "@jupyter-widgets/controls",
          "model_name": "ProgressStyleModel",
          "model_module_version": "1.5.0",
          "state": {
            "_view_name": "StyleView",
            "_model_name": "ProgressStyleModel",
            "description_width": "",
            "_view_module": "@jupyter-widgets/base",
            "_model_module_version": "1.5.0",
            "_view_count": null,
            "_view_module_version": "1.2.0",
            "bar_color": null,
            "_model_module": "@jupyter-widgets/controls"
          }
        },
        "7ebe962d25e2404aa41e46edd613757c": {
          "model_module": "@jupyter-widgets/base",
          "model_name": "LayoutModel",
          "model_module_version": "1.2.0",
          "state": {
            "_view_name": "LayoutView",
            "grid_template_rows": null,
            "right": null,
            "justify_content": null,
            "_view_module": "@jupyter-widgets/base",
            "overflow": null,
            "_model_module_version": "1.2.0",
            "_view_count": null,
            "flex_flow": null,
            "width": null,
            "min_width": null,
            "border": null,
            "align_items": null,
            "bottom": null,
            "_model_module": "@jupyter-widgets/base",
            "top": null,
            "grid_column": null,
            "overflow_y": null,
            "overflow_x": null,
            "grid_auto_flow": null,
            "grid_area": null,
            "grid_template_columns": null,
            "flex": null,
            "_model_name": "LayoutModel",
            "justify_items": null,
            "grid_row": null,
            "max_height": null,
            "align_content": null,
            "visibility": null,
            "align_self": null,
            "height": null,
            "min_height": null,
            "padding": null,
            "grid_auto_rows": null,
            "grid_gap": null,
            "max_width": null,
            "order": null,
            "_view_module_version": "1.2.0",
            "grid_template_areas": null,
            "object_position": null,
            "object_fit": null,
            "grid_auto_columns": null,
            "margin": null,
            "display": null,
            "left": null
          }
        },
        "b371f97658d644b2b6573b0440a7828f": {
          "model_module": "@jupyter-widgets/controls",
          "model_name": "DescriptionStyleModel",
          "model_module_version": "1.5.0",
          "state": {
            "_view_name": "StyleView",
            "_model_name": "DescriptionStyleModel",
            "description_width": "",
            "_view_module": "@jupyter-widgets/base",
            "_model_module_version": "1.5.0",
            "_view_count": null,
            "_view_module_version": "1.2.0",
            "_model_module": "@jupyter-widgets/controls"
          }
        },
        "c73ff0dca9b64d1e9fc574c6cefa26d5": {
          "model_module": "@jupyter-widgets/base",
          "model_name": "LayoutModel",
          "model_module_version": "1.2.0",
          "state": {
            "_view_name": "LayoutView",
            "grid_template_rows": null,
            "right": null,
            "justify_content": null,
            "_view_module": "@jupyter-widgets/base",
            "overflow": null,
            "_model_module_version": "1.2.0",
            "_view_count": null,
            "flex_flow": null,
            "width": null,
            "min_width": null,
            "border": null,
            "align_items": null,
            "bottom": null,
            "_model_module": "@jupyter-widgets/base",
            "top": null,
            "grid_column": null,
            "overflow_y": null,
            "overflow_x": null,
            "grid_auto_flow": null,
            "grid_area": null,
            "grid_template_columns": null,
            "flex": null,
            "_model_name": "LayoutModel",
            "justify_items": null,
            "grid_row": null,
            "max_height": null,
            "align_content": null,
            "visibility": null,
            "align_self": null,
            "height": null,
            "min_height": null,
            "padding": null,
            "grid_auto_rows": null,
            "grid_gap": null,
            "max_width": null,
            "order": null,
            "_view_module_version": "1.2.0",
            "grid_template_areas": null,
            "object_position": null,
            "object_fit": null,
            "grid_auto_columns": null,
            "margin": null,
            "display": null,
            "left": null
          }
        },
        "19ffd17a13c24ed689b8eb22c54544af": {
          "model_module": "@jupyter-widgets/controls",
          "model_name": "HBoxModel",
          "model_module_version": "1.5.0",
          "state": {
            "_view_name": "HBoxView",
            "_dom_classes": [],
            "_model_name": "HBoxModel",
            "_view_module": "@jupyter-widgets/controls",
            "_model_module_version": "1.5.0",
            "_view_count": null,
            "_view_module_version": "1.5.0",
            "box_style": "",
            "layout": "IPY_MODEL_16a49fd5cef443d09dbda7a4b3488019",
            "_model_module": "@jupyter-widgets/controls",
            "children": [
              "IPY_MODEL_b2d81eaa287c445d926bd1853a89ec47",
              "IPY_MODEL_dcffe0df06bd482fbb816a1d817e4d1e",
              "IPY_MODEL_4cac569e006e4133a72f8a564ff21f19"
            ]
          }
        },
        "16a49fd5cef443d09dbda7a4b3488019": {
          "model_module": "@jupyter-widgets/base",
          "model_name": "LayoutModel",
          "model_module_version": "1.2.0",
          "state": {
            "_view_name": "LayoutView",
            "grid_template_rows": null,
            "right": null,
            "justify_content": null,
            "_view_module": "@jupyter-widgets/base",
            "overflow": null,
            "_model_module_version": "1.2.0",
            "_view_count": null,
            "flex_flow": null,
            "width": null,
            "min_width": null,
            "border": null,
            "align_items": null,
            "bottom": null,
            "_model_module": "@jupyter-widgets/base",
            "top": null,
            "grid_column": null,
            "overflow_y": null,
            "overflow_x": null,
            "grid_auto_flow": null,
            "grid_area": null,
            "grid_template_columns": null,
            "flex": null,
            "_model_name": "LayoutModel",
            "justify_items": null,
            "grid_row": null,
            "max_height": null,
            "align_content": null,
            "visibility": null,
            "align_self": null,
            "height": null,
            "min_height": null,
            "padding": null,
            "grid_auto_rows": null,
            "grid_gap": null,
            "max_width": null,
            "order": null,
            "_view_module_version": "1.2.0",
            "grid_template_areas": null,
            "object_position": null,
            "object_fit": null,
            "grid_auto_columns": null,
            "margin": null,
            "display": null,
            "left": null
          }
        },
        "b2d81eaa287c445d926bd1853a89ec47": {
          "model_module": "@jupyter-widgets/controls",
          "model_name": "HTMLModel",
          "model_module_version": "1.5.0",
          "state": {
            "_view_name": "HTMLView",
            "style": "IPY_MODEL_2f9840df6e8a41a8aaafa630195b9b6d",
            "_dom_classes": [],
            "description": "",
            "_model_name": "HTMLModel",
            "placeholder": "​",
            "_view_module": "@jupyter-widgets/controls",
            "_model_module_version": "1.5.0",
            "value": "100%",
            "_view_count": null,
            "_view_module_version": "1.5.0",
            "description_tooltip": null,
            "_model_module": "@jupyter-widgets/controls",
            "layout": "IPY_MODEL_dee9b801fcb14623a0c5629c3b79f43d"
          }
        },
        "dcffe0df06bd482fbb816a1d817e4d1e": {
          "model_module": "@jupyter-widgets/controls",
          "model_name": "FloatProgressModel",
          "model_module_version": "1.5.0",
          "state": {
            "_view_name": "ProgressView",
            "style": "IPY_MODEL_11849f5f7a5c4329a956102a770df087",
            "_dom_classes": [],
            "description": "",
            "_model_name": "FloatProgressModel",
            "bar_style": "success",
            "max": 8675,
            "_view_module": "@jupyter-widgets/controls",
            "_model_module_version": "1.5.0",
            "value": 8675,
            "_view_count": null,
            "_view_module_version": "1.5.0",
            "orientation": "horizontal",
            "min": 0,
            "description_tooltip": null,
            "_model_module": "@jupyter-widgets/controls",
            "layout": "IPY_MODEL_69bf43fda83244b9827c9540ce8ecf61"
          }
        },
        "4cac569e006e4133a72f8a564ff21f19": {
          "model_module": "@jupyter-widgets/controls",
          "model_name": "HTMLModel",
          "model_module_version": "1.5.0",
          "state": {
            "_view_name": "HTMLView",
            "style": "IPY_MODEL_ec999a8e512b43e8b688e57eecf80d22",
            "_dom_classes": [],
            "description": "",
            "_model_name": "HTMLModel",
            "placeholder": "​",
            "_view_module": "@jupyter-widgets/controls",
            "_model_module_version": "1.5.0",
            "value": " 8675/8675 [00:02&lt;00:00, 4250.48it/s]",
            "_view_count": null,
            "_view_module_version": "1.5.0",
            "description_tooltip": null,
            "_model_module": "@jupyter-widgets/controls",
            "layout": "IPY_MODEL_eecb0bafd1954cb4a5e3abee5a3f9d4c"
          }
        },
        "2f9840df6e8a41a8aaafa630195b9b6d": {
          "model_module": "@jupyter-widgets/controls",
          "model_name": "DescriptionStyleModel",
          "model_module_version": "1.5.0",
          "state": {
            "_view_name": "StyleView",
            "_model_name": "DescriptionStyleModel",
            "description_width": "",
            "_view_module": "@jupyter-widgets/base",
            "_model_module_version": "1.5.0",
            "_view_count": null,
            "_view_module_version": "1.2.0",
            "_model_module": "@jupyter-widgets/controls"
          }
        },
        "dee9b801fcb14623a0c5629c3b79f43d": {
          "model_module": "@jupyter-widgets/base",
          "model_name": "LayoutModel",
          "model_module_version": "1.2.0",
          "state": {
            "_view_name": "LayoutView",
            "grid_template_rows": null,
            "right": null,
            "justify_content": null,
            "_view_module": "@jupyter-widgets/base",
            "overflow": null,
            "_model_module_version": "1.2.0",
            "_view_count": null,
            "flex_flow": null,
            "width": null,
            "min_width": null,
            "border": null,
            "align_items": null,
            "bottom": null,
            "_model_module": "@jupyter-widgets/base",
            "top": null,
            "grid_column": null,
            "overflow_y": null,
            "overflow_x": null,
            "grid_auto_flow": null,
            "grid_area": null,
            "grid_template_columns": null,
            "flex": null,
            "_model_name": "LayoutModel",
            "justify_items": null,
            "grid_row": null,
            "max_height": null,
            "align_content": null,
            "visibility": null,
            "align_self": null,
            "height": null,
            "min_height": null,
            "padding": null,
            "grid_auto_rows": null,
            "grid_gap": null,
            "max_width": null,
            "order": null,
            "_view_module_version": "1.2.0",
            "grid_template_areas": null,
            "object_position": null,
            "object_fit": null,
            "grid_auto_columns": null,
            "margin": null,
            "display": null,
            "left": null
          }
        },
        "11849f5f7a5c4329a956102a770df087": {
          "model_module": "@jupyter-widgets/controls",
          "model_name": "ProgressStyleModel",
          "model_module_version": "1.5.0",
          "state": {
            "_view_name": "StyleView",
            "_model_name": "ProgressStyleModel",
            "description_width": "",
            "_view_module": "@jupyter-widgets/base",
            "_model_module_version": "1.5.0",
            "_view_count": null,
            "_view_module_version": "1.2.0",
            "bar_color": null,
            "_model_module": "@jupyter-widgets/controls"
          }
        },
        "69bf43fda83244b9827c9540ce8ecf61": {
          "model_module": "@jupyter-widgets/base",
          "model_name": "LayoutModel",
          "model_module_version": "1.2.0",
          "state": {
            "_view_name": "LayoutView",
            "grid_template_rows": null,
            "right": null,
            "justify_content": null,
            "_view_module": "@jupyter-widgets/base",
            "overflow": null,
            "_model_module_version": "1.2.0",
            "_view_count": null,
            "flex_flow": null,
            "width": null,
            "min_width": null,
            "border": null,
            "align_items": null,
            "bottom": null,
            "_model_module": "@jupyter-widgets/base",
            "top": null,
            "grid_column": null,
            "overflow_y": null,
            "overflow_x": null,
            "grid_auto_flow": null,
            "grid_area": null,
            "grid_template_columns": null,
            "flex": null,
            "_model_name": "LayoutModel",
            "justify_items": null,
            "grid_row": null,
            "max_height": null,
            "align_content": null,
            "visibility": null,
            "align_self": null,
            "height": null,
            "min_height": null,
            "padding": null,
            "grid_auto_rows": null,
            "grid_gap": null,
            "max_width": null,
            "order": null,
            "_view_module_version": "1.2.0",
            "grid_template_areas": null,
            "object_position": null,
            "object_fit": null,
            "grid_auto_columns": null,
            "margin": null,
            "display": null,
            "left": null
          }
        },
        "ec999a8e512b43e8b688e57eecf80d22": {
          "model_module": "@jupyter-widgets/controls",
          "model_name": "DescriptionStyleModel",
          "model_module_version": "1.5.0",
          "state": {
            "_view_name": "StyleView",
            "_model_name": "DescriptionStyleModel",
            "description_width": "",
            "_view_module": "@jupyter-widgets/base",
            "_model_module_version": "1.5.0",
            "_view_count": null,
            "_view_module_version": "1.2.0",
            "_model_module": "@jupyter-widgets/controls"
          }
        },
        "eecb0bafd1954cb4a5e3abee5a3f9d4c": {
          "model_module": "@jupyter-widgets/base",
          "model_name": "LayoutModel",
          "model_module_version": "1.2.0",
          "state": {
            "_view_name": "LayoutView",
            "grid_template_rows": null,
            "right": null,
            "justify_content": null,
            "_view_module": "@jupyter-widgets/base",
            "overflow": null,
            "_model_module_version": "1.2.0",
            "_view_count": null,
            "flex_flow": null,
            "width": null,
            "min_width": null,
            "border": null,
            "align_items": null,
            "bottom": null,
            "_model_module": "@jupyter-widgets/base",
            "top": null,
            "grid_column": null,
            "overflow_y": null,
            "overflow_x": null,
            "grid_auto_flow": null,
            "grid_area": null,
            "grid_template_columns": null,
            "flex": null,
            "_model_name": "LayoutModel",
            "justify_items": null,
            "grid_row": null,
            "max_height": null,
            "align_content": null,
            "visibility": null,
            "align_self": null,
            "height": null,
            "min_height": null,
            "padding": null,
            "grid_auto_rows": null,
            "grid_gap": null,
            "max_width": null,
            "order": null,
            "_view_module_version": "1.2.0",
            "grid_template_areas": null,
            "object_position": null,
            "object_fit": null,
            "grid_auto_columns": null,
            "margin": null,
            "display": null,
            "left": null
          }
        },
        "2d351491aac04ba1981c5db42570246c": {
          "model_module": "@jupyter-widgets/controls",
          "model_name": "HBoxModel",
          "model_module_version": "1.5.0",
          "state": {
            "_view_name": "HBoxView",
            "_dom_classes": [],
            "_model_name": "HBoxModel",
            "_view_module": "@jupyter-widgets/controls",
            "_model_module_version": "1.5.0",
            "_view_count": null,
            "_view_module_version": "1.5.0",
            "box_style": "",
            "layout": "IPY_MODEL_2b0528dd90c642a6a38a05575cabacbd",
            "_model_module": "@jupyter-widgets/controls",
            "children": [
              "IPY_MODEL_d526cfe432544adbb1ce18c38618eb3b",
              "IPY_MODEL_0e2b404b9ca74f37b1202d39421a026e",
              "IPY_MODEL_0dafea8b913f49c984c204c919a4baa4"
            ]
          }
        },
        "2b0528dd90c642a6a38a05575cabacbd": {
          "model_module": "@jupyter-widgets/base",
          "model_name": "LayoutModel",
          "model_module_version": "1.2.0",
          "state": {
            "_view_name": "LayoutView",
            "grid_template_rows": null,
            "right": null,
            "justify_content": null,
            "_view_module": "@jupyter-widgets/base",
            "overflow": null,
            "_model_module_version": "1.2.0",
            "_view_count": null,
            "flex_flow": null,
            "width": null,
            "min_width": null,
            "border": null,
            "align_items": null,
            "bottom": null,
            "_model_module": "@jupyter-widgets/base",
            "top": null,
            "grid_column": null,
            "overflow_y": null,
            "overflow_x": null,
            "grid_auto_flow": null,
            "grid_area": null,
            "grid_template_columns": null,
            "flex": null,
            "_model_name": "LayoutModel",
            "justify_items": null,
            "grid_row": null,
            "max_height": null,
            "align_content": null,
            "visibility": null,
            "align_self": null,
            "height": null,
            "min_height": null,
            "padding": null,
            "grid_auto_rows": null,
            "grid_gap": null,
            "max_width": null,
            "order": null,
            "_view_module_version": "1.2.0",
            "grid_template_areas": null,
            "object_position": null,
            "object_fit": null,
            "grid_auto_columns": null,
            "margin": null,
            "display": null,
            "left": null
          }
        },
        "d526cfe432544adbb1ce18c38618eb3b": {
          "model_module": "@jupyter-widgets/controls",
          "model_name": "HTMLModel",
          "model_module_version": "1.5.0",
          "state": {
            "_view_name": "HTMLView",
            "style": "IPY_MODEL_82925866db9840d6ab5d66e2a2e464e4",
            "_dom_classes": [],
            "description": "",
            "_model_name": "HTMLModel",
            "placeholder": "​",
            "_view_module": "@jupyter-widgets/controls",
            "_model_module_version": "1.5.0",
            "value": "100%",
            "_view_count": null,
            "_view_module_version": "1.5.0",
            "description_tooltip": null,
            "_model_module": "@jupyter-widgets/controls",
            "layout": "IPY_MODEL_3365a42f6b4f4194abe9aeff84df847e"
          }
        },
        "0e2b404b9ca74f37b1202d39421a026e": {
          "model_module": "@jupyter-widgets/controls",
          "model_name": "FloatProgressModel",
          "model_module_version": "1.5.0",
          "state": {
            "_view_name": "ProgressView",
            "style": "IPY_MODEL_83244585a8e448448a122e43d78da040",
            "_dom_classes": [],
            "description": "",
            "_model_name": "FloatProgressModel",
            "bar_style": "success",
            "max": 8675,
            "_view_module": "@jupyter-widgets/controls",
            "_model_module_version": "1.5.0",
            "value": 8675,
            "_view_count": null,
            "_view_module_version": "1.5.0",
            "orientation": "horizontal",
            "min": 0,
            "description_tooltip": null,
            "_model_module": "@jupyter-widgets/controls",
            "layout": "IPY_MODEL_19123276b38a4bf9b6fbff90f7a5034b"
          }
        },
        "0dafea8b913f49c984c204c919a4baa4": {
          "model_module": "@jupyter-widgets/controls",
          "model_name": "HTMLModel",
          "model_module_version": "1.5.0",
          "state": {
            "_view_name": "HTMLView",
            "style": "IPY_MODEL_32e4466248c343cf9a64aada4d97861c",
            "_dom_classes": [],
            "description": "",
            "_model_name": "HTMLModel",
            "placeholder": "​",
            "_view_module": "@jupyter-widgets/controls",
            "_model_module_version": "1.5.0",
            "value": " 8675/8675 [00:00&lt;00:00, 35826.56it/s]",
            "_view_count": null,
            "_view_module_version": "1.5.0",
            "description_tooltip": null,
            "_model_module": "@jupyter-widgets/controls",
            "layout": "IPY_MODEL_4edea48705eb446dab7e361d1fdfa4dd"
          }
        },
        "82925866db9840d6ab5d66e2a2e464e4": {
          "model_module": "@jupyter-widgets/controls",
          "model_name": "DescriptionStyleModel",
          "model_module_version": "1.5.0",
          "state": {
            "_view_name": "StyleView",
            "_model_name": "DescriptionStyleModel",
            "description_width": "",
            "_view_module": "@jupyter-widgets/base",
            "_model_module_version": "1.5.0",
            "_view_count": null,
            "_view_module_version": "1.2.0",
            "_model_module": "@jupyter-widgets/controls"
          }
        },
        "3365a42f6b4f4194abe9aeff84df847e": {
          "model_module": "@jupyter-widgets/base",
          "model_name": "LayoutModel",
          "model_module_version": "1.2.0",
          "state": {
            "_view_name": "LayoutView",
            "grid_template_rows": null,
            "right": null,
            "justify_content": null,
            "_view_module": "@jupyter-widgets/base",
            "overflow": null,
            "_model_module_version": "1.2.0",
            "_view_count": null,
            "flex_flow": null,
            "width": null,
            "min_width": null,
            "border": null,
            "align_items": null,
            "bottom": null,
            "_model_module": "@jupyter-widgets/base",
            "top": null,
            "grid_column": null,
            "overflow_y": null,
            "overflow_x": null,
            "grid_auto_flow": null,
            "grid_area": null,
            "grid_template_columns": null,
            "flex": null,
            "_model_name": "LayoutModel",
            "justify_items": null,
            "grid_row": null,
            "max_height": null,
            "align_content": null,
            "visibility": null,
            "align_self": null,
            "height": null,
            "min_height": null,
            "padding": null,
            "grid_auto_rows": null,
            "grid_gap": null,
            "max_width": null,
            "order": null,
            "_view_module_version": "1.2.0",
            "grid_template_areas": null,
            "object_position": null,
            "object_fit": null,
            "grid_auto_columns": null,
            "margin": null,
            "display": null,
            "left": null
          }
        },
        "83244585a8e448448a122e43d78da040": {
          "model_module": "@jupyter-widgets/controls",
          "model_name": "ProgressStyleModel",
          "model_module_version": "1.5.0",
          "state": {
            "_view_name": "StyleView",
            "_model_name": "ProgressStyleModel",
            "description_width": "",
            "_view_module": "@jupyter-widgets/base",
            "_model_module_version": "1.5.0",
            "_view_count": null,
            "_view_module_version": "1.2.0",
            "bar_color": null,
            "_model_module": "@jupyter-widgets/controls"
          }
        },
        "19123276b38a4bf9b6fbff90f7a5034b": {
          "model_module": "@jupyter-widgets/base",
          "model_name": "LayoutModel",
          "model_module_version": "1.2.0",
          "state": {
            "_view_name": "LayoutView",
            "grid_template_rows": null,
            "right": null,
            "justify_content": null,
            "_view_module": "@jupyter-widgets/base",
            "overflow": null,
            "_model_module_version": "1.2.0",
            "_view_count": null,
            "flex_flow": null,
            "width": null,
            "min_width": null,
            "border": null,
            "align_items": null,
            "bottom": null,
            "_model_module": "@jupyter-widgets/base",
            "top": null,
            "grid_column": null,
            "overflow_y": null,
            "overflow_x": null,
            "grid_auto_flow": null,
            "grid_area": null,
            "grid_template_columns": null,
            "flex": null,
            "_model_name": "LayoutModel",
            "justify_items": null,
            "grid_row": null,
            "max_height": null,
            "align_content": null,
            "visibility": null,
            "align_self": null,
            "height": null,
            "min_height": null,
            "padding": null,
            "grid_auto_rows": null,
            "grid_gap": null,
            "max_width": null,
            "order": null,
            "_view_module_version": "1.2.0",
            "grid_template_areas": null,
            "object_position": null,
            "object_fit": null,
            "grid_auto_columns": null,
            "margin": null,
            "display": null,
            "left": null
          }
        },
        "32e4466248c343cf9a64aada4d97861c": {
          "model_module": "@jupyter-widgets/controls",
          "model_name": "DescriptionStyleModel",
          "model_module_version": "1.5.0",
          "state": {
            "_view_name": "StyleView",
            "_model_name": "DescriptionStyleModel",
            "description_width": "",
            "_view_module": "@jupyter-widgets/base",
            "_model_module_version": "1.5.0",
            "_view_count": null,
            "_view_module_version": "1.2.0",
            "_model_module": "@jupyter-widgets/controls"
          }
        },
        "4edea48705eb446dab7e361d1fdfa4dd": {
          "model_module": "@jupyter-widgets/base",
          "model_name": "LayoutModel",
          "model_module_version": "1.2.0",
          "state": {
            "_view_name": "LayoutView",
            "grid_template_rows": null,
            "right": null,
            "justify_content": null,
            "_view_module": "@jupyter-widgets/base",
            "overflow": null,
            "_model_module_version": "1.2.0",
            "_view_count": null,
            "flex_flow": null,
            "width": null,
            "min_width": null,
            "border": null,
            "align_items": null,
            "bottom": null,
            "_model_module": "@jupyter-widgets/base",
            "top": null,
            "grid_column": null,
            "overflow_y": null,
            "overflow_x": null,
            "grid_auto_flow": null,
            "grid_area": null,
            "grid_template_columns": null,
            "flex": null,
            "_model_name": "LayoutModel",
            "justify_items": null,
            "grid_row": null,
            "max_height": null,
            "align_content": null,
            "visibility": null,
            "align_self": null,
            "height": null,
            "min_height": null,
            "padding": null,
            "grid_auto_rows": null,
            "grid_gap": null,
            "max_width": null,
            "order": null,
            "_view_module_version": "1.2.0",
            "grid_template_areas": null,
            "object_position": null,
            "object_fit": null,
            "grid_auto_columns": null,
            "margin": null,
            "display": null,
            "left": null
          }
        },
        "cd1ad64beee04f749324841681561e34": {
          "model_module": "@jupyter-widgets/controls",
          "model_name": "HBoxModel",
          "model_module_version": "1.5.0",
          "state": {
            "_view_name": "HBoxView",
            "_dom_classes": [],
            "_model_name": "HBoxModel",
            "_view_module": "@jupyter-widgets/controls",
            "_model_module_version": "1.5.0",
            "_view_count": null,
            "_view_module_version": "1.5.0",
            "box_style": "",
            "layout": "IPY_MODEL_b9b5258eeab24e7981a24ed1b1c72487",
            "_model_module": "@jupyter-widgets/controls",
            "children": [
              "IPY_MODEL_ec93be8bd7904ac98df94a4c1aac20f9",
              "IPY_MODEL_14efd16c6ebf4d56b2dfcdf4eb13cc94",
              "IPY_MODEL_ce518c0d92394c4da963df532e87a874"
            ]
          }
        },
        "b9b5258eeab24e7981a24ed1b1c72487": {
          "model_module": "@jupyter-widgets/base",
          "model_name": "LayoutModel",
          "model_module_version": "1.2.0",
          "state": {
            "_view_name": "LayoutView",
            "grid_template_rows": null,
            "right": null,
            "justify_content": null,
            "_view_module": "@jupyter-widgets/base",
            "overflow": null,
            "_model_module_version": "1.2.0",
            "_view_count": null,
            "flex_flow": null,
            "width": null,
            "min_width": null,
            "border": null,
            "align_items": null,
            "bottom": null,
            "_model_module": "@jupyter-widgets/base",
            "top": null,
            "grid_column": null,
            "overflow_y": null,
            "overflow_x": null,
            "grid_auto_flow": null,
            "grid_area": null,
            "grid_template_columns": null,
            "flex": null,
            "_model_name": "LayoutModel",
            "justify_items": null,
            "grid_row": null,
            "max_height": null,
            "align_content": null,
            "visibility": null,
            "align_self": null,
            "height": null,
            "min_height": null,
            "padding": null,
            "grid_auto_rows": null,
            "grid_gap": null,
            "max_width": null,
            "order": null,
            "_view_module_version": "1.2.0",
            "grid_template_areas": null,
            "object_position": null,
            "object_fit": null,
            "grid_auto_columns": null,
            "margin": null,
            "display": null,
            "left": null
          }
        },
        "ec93be8bd7904ac98df94a4c1aac20f9": {
          "model_module": "@jupyter-widgets/controls",
          "model_name": "HTMLModel",
          "model_module_version": "1.5.0",
          "state": {
            "_view_name": "HTMLView",
            "style": "IPY_MODEL_cdc3d7bafb8340d6afdb06de0a839592",
            "_dom_classes": [],
            "description": "",
            "_model_name": "HTMLModel",
            "placeholder": "​",
            "_view_module": "@jupyter-widgets/controls",
            "_model_module_version": "1.5.0",
            "value": "100%",
            "_view_count": null,
            "_view_module_version": "1.5.0",
            "description_tooltip": null,
            "_model_module": "@jupyter-widgets/controls",
            "layout": "IPY_MODEL_c6c3920037cc479e8643fae0805502c4"
          }
        },
        "14efd16c6ebf4d56b2dfcdf4eb13cc94": {
          "model_module": "@jupyter-widgets/controls",
          "model_name": "FloatProgressModel",
          "model_module_version": "1.5.0",
          "state": {
            "_view_name": "ProgressView",
            "style": "IPY_MODEL_9a42614a602c4860890d2976db85fef0",
            "_dom_classes": [],
            "description": "",
            "_model_name": "FloatProgressModel",
            "bar_style": "success",
            "max": 8675,
            "_view_module": "@jupyter-widgets/controls",
            "_model_module_version": "1.5.0",
            "value": 8675,
            "_view_count": null,
            "_view_module_version": "1.5.0",
            "orientation": "horizontal",
            "min": 0,
            "description_tooltip": null,
            "_model_module": "@jupyter-widgets/controls",
            "layout": "IPY_MODEL_23aa76f1d1dd4525ac8f76a9ead2a2e7"
          }
        },
        "ce518c0d92394c4da963df532e87a874": {
          "model_module": "@jupyter-widgets/controls",
          "model_name": "HTMLModel",
          "model_module_version": "1.5.0",
          "state": {
            "_view_name": "HTMLView",
            "style": "IPY_MODEL_56904c74960e4ffeb7d1b6be8136a7e3",
            "_dom_classes": [],
            "description": "",
            "_model_name": "HTMLModel",
            "placeholder": "​",
            "_view_module": "@jupyter-widgets/controls",
            "_model_module_version": "1.5.0",
            "value": " 8675/8675 [13:19&lt;00:00, 10.37it/s]",
            "_view_count": null,
            "_view_module_version": "1.5.0",
            "description_tooltip": null,
            "_model_module": "@jupyter-widgets/controls",
            "layout": "IPY_MODEL_189c72c45aff459696bbc9921da6a22a"
          }
        },
        "cdc3d7bafb8340d6afdb06de0a839592": {
          "model_module": "@jupyter-widgets/controls",
          "model_name": "DescriptionStyleModel",
          "model_module_version": "1.5.0",
          "state": {
            "_view_name": "StyleView",
            "_model_name": "DescriptionStyleModel",
            "description_width": "",
            "_view_module": "@jupyter-widgets/base",
            "_model_module_version": "1.5.0",
            "_view_count": null,
            "_view_module_version": "1.2.0",
            "_model_module": "@jupyter-widgets/controls"
          }
        },
        "c6c3920037cc479e8643fae0805502c4": {
          "model_module": "@jupyter-widgets/base",
          "model_name": "LayoutModel",
          "model_module_version": "1.2.0",
          "state": {
            "_view_name": "LayoutView",
            "grid_template_rows": null,
            "right": null,
            "justify_content": null,
            "_view_module": "@jupyter-widgets/base",
            "overflow": null,
            "_model_module_version": "1.2.0",
            "_view_count": null,
            "flex_flow": null,
            "width": null,
            "min_width": null,
            "border": null,
            "align_items": null,
            "bottom": null,
            "_model_module": "@jupyter-widgets/base",
            "top": null,
            "grid_column": null,
            "overflow_y": null,
            "overflow_x": null,
            "grid_auto_flow": null,
            "grid_area": null,
            "grid_template_columns": null,
            "flex": null,
            "_model_name": "LayoutModel",
            "justify_items": null,
            "grid_row": null,
            "max_height": null,
            "align_content": null,
            "visibility": null,
            "align_self": null,
            "height": null,
            "min_height": null,
            "padding": null,
            "grid_auto_rows": null,
            "grid_gap": null,
            "max_width": null,
            "order": null,
            "_view_module_version": "1.2.0",
            "grid_template_areas": null,
            "object_position": null,
            "object_fit": null,
            "grid_auto_columns": null,
            "margin": null,
            "display": null,
            "left": null
          }
        },
        "9a42614a602c4860890d2976db85fef0": {
          "model_module": "@jupyter-widgets/controls",
          "model_name": "ProgressStyleModel",
          "model_module_version": "1.5.0",
          "state": {
            "_view_name": "StyleView",
            "_model_name": "ProgressStyleModel",
            "description_width": "",
            "_view_module": "@jupyter-widgets/base",
            "_model_module_version": "1.5.0",
            "_view_count": null,
            "_view_module_version": "1.2.0",
            "bar_color": null,
            "_model_module": "@jupyter-widgets/controls"
          }
        },
        "23aa76f1d1dd4525ac8f76a9ead2a2e7": {
          "model_module": "@jupyter-widgets/base",
          "model_name": "LayoutModel",
          "model_module_version": "1.2.0",
          "state": {
            "_view_name": "LayoutView",
            "grid_template_rows": null,
            "right": null,
            "justify_content": null,
            "_view_module": "@jupyter-widgets/base",
            "overflow": null,
            "_model_module_version": "1.2.0",
            "_view_count": null,
            "flex_flow": null,
            "width": null,
            "min_width": null,
            "border": null,
            "align_items": null,
            "bottom": null,
            "_model_module": "@jupyter-widgets/base",
            "top": null,
            "grid_column": null,
            "overflow_y": null,
            "overflow_x": null,
            "grid_auto_flow": null,
            "grid_area": null,
            "grid_template_columns": null,
            "flex": null,
            "_model_name": "LayoutModel",
            "justify_items": null,
            "grid_row": null,
            "max_height": null,
            "align_content": null,
            "visibility": null,
            "align_self": null,
            "height": null,
            "min_height": null,
            "padding": null,
            "grid_auto_rows": null,
            "grid_gap": null,
            "max_width": null,
            "order": null,
            "_view_module_version": "1.2.0",
            "grid_template_areas": null,
            "object_position": null,
            "object_fit": null,
            "grid_auto_columns": null,
            "margin": null,
            "display": null,
            "left": null
          }
        },
        "56904c74960e4ffeb7d1b6be8136a7e3": {
          "model_module": "@jupyter-widgets/controls",
          "model_name": "DescriptionStyleModel",
          "model_module_version": "1.5.0",
          "state": {
            "_view_name": "StyleView",
            "_model_name": "DescriptionStyleModel",
            "description_width": "",
            "_view_module": "@jupyter-widgets/base",
            "_model_module_version": "1.5.0",
            "_view_count": null,
            "_view_module_version": "1.2.0",
            "_model_module": "@jupyter-widgets/controls"
          }
        },
        "189c72c45aff459696bbc9921da6a22a": {
          "model_module": "@jupyter-widgets/base",
          "model_name": "LayoutModel",
          "model_module_version": "1.2.0",
          "state": {
            "_view_name": "LayoutView",
            "grid_template_rows": null,
            "right": null,
            "justify_content": null,
            "_view_module": "@jupyter-widgets/base",
            "overflow": null,
            "_model_module_version": "1.2.0",
            "_view_count": null,
            "flex_flow": null,
            "width": null,
            "min_width": null,
            "border": null,
            "align_items": null,
            "bottom": null,
            "_model_module": "@jupyter-widgets/base",
            "top": null,
            "grid_column": null,
            "overflow_y": null,
            "overflow_x": null,
            "grid_auto_flow": null,
            "grid_area": null,
            "grid_template_columns": null,
            "flex": null,
            "_model_name": "LayoutModel",
            "justify_items": null,
            "grid_row": null,
            "max_height": null,
            "align_content": null,
            "visibility": null,
            "align_self": null,
            "height": null,
            "min_height": null,
            "padding": null,
            "grid_auto_rows": null,
            "grid_gap": null,
            "max_width": null,
            "order": null,
            "_view_module_version": "1.2.0",
            "grid_template_areas": null,
            "object_position": null,
            "object_fit": null,
            "grid_auto_columns": null,
            "margin": null,
            "display": null,
            "left": null
          }
        }
      }
    }
  },
  "cells": [
    {
      "cell_type": "markdown",
      "metadata": {
        "id": "view-in-github",
        "colab_type": "text"
      },
      "source": [
        "<a href=\"https://colab.research.google.com/github/chirayurathi/personality-prediction-deep-learning/blob/main/SIN_final.ipynb\" target=\"_parent\"><img src=\"https://colab.research.google.com/assets/colab-badge.svg\" alt=\"Open In Colab\"/></a>"
      ]
    },
    {
      "cell_type": "code",
      "metadata": {
        "colab": {
          "base_uri": "https://localhost:8080/"
        },
        "id": "EkzkFsLowEql",
        "outputId": "bb62143a-1c03-485a-a4d6-ce9c473ab546"
      },
      "source": [
        "pip install text-hammer"
      ],
      "id": "EkzkFsLowEql",
      "execution_count": null,
      "outputs": [
        {
          "output_type": "stream",
          "name": "stdout",
          "text": [
            "Collecting text-hammer\n",
            "  Downloading text_hammer-0.1.5-py3-none-any.whl (7.6 kB)\n",
            "Requirement already satisfied: numpy in /usr/local/lib/python3.7/dist-packages (from text-hammer) (1.19.5)\n",
            "Requirement already satisfied: pandas in /usr/local/lib/python3.7/dist-packages (from text-hammer) (1.1.5)\n",
            "Collecting beautifulsoup4==4.9.1\n",
            "  Downloading beautifulsoup4-4.9.1-py3-none-any.whl (115 kB)\n",
            "\u001b[K     |████████████████████████████████| 115 kB 30.6 MB/s \n",
            "\u001b[?25hRequirement already satisfied: spacy in /usr/local/lib/python3.7/dist-packages (from text-hammer) (2.2.4)\n",
            "Requirement already satisfied: TextBlob in /usr/local/lib/python3.7/dist-packages (from text-hammer) (0.15.3)\n",
            "Collecting soupsieve>1.2\n",
            "  Downloading soupsieve-2.3.1-py3-none-any.whl (37 kB)\n",
            "Requirement already satisfied: pytz>=2017.2 in /usr/local/lib/python3.7/dist-packages (from pandas->text-hammer) (2018.9)\n",
            "Requirement already satisfied: python-dateutil>=2.7.3 in /usr/local/lib/python3.7/dist-packages (from pandas->text-hammer) (2.8.2)\n",
            "Requirement already satisfied: six>=1.5 in /usr/local/lib/python3.7/dist-packages (from python-dateutil>=2.7.3->pandas->text-hammer) (1.15.0)\n",
            "Requirement already satisfied: requests<3.0.0,>=2.13.0 in /usr/local/lib/python3.7/dist-packages (from spacy->text-hammer) (2.23.0)\n",
            "Requirement already satisfied: blis<0.5.0,>=0.4.0 in /usr/local/lib/python3.7/dist-packages (from spacy->text-hammer) (0.4.1)\n",
            "Requirement already satisfied: preshed<3.1.0,>=3.0.2 in /usr/local/lib/python3.7/dist-packages (from spacy->text-hammer) (3.0.6)\n",
            "Requirement already satisfied: murmurhash<1.1.0,>=0.28.0 in /usr/local/lib/python3.7/dist-packages (from spacy->text-hammer) (1.0.6)\n",
            "Requirement already satisfied: plac<1.2.0,>=0.9.6 in /usr/local/lib/python3.7/dist-packages (from spacy->text-hammer) (1.1.3)\n",
            "Requirement already satisfied: setuptools in /usr/local/lib/python3.7/dist-packages (from spacy->text-hammer) (57.4.0)\n",
            "Requirement already satisfied: catalogue<1.1.0,>=0.0.7 in /usr/local/lib/python3.7/dist-packages (from spacy->text-hammer) (1.0.0)\n",
            "Requirement already satisfied: thinc==7.4.0 in /usr/local/lib/python3.7/dist-packages (from spacy->text-hammer) (7.4.0)\n",
            "Requirement already satisfied: srsly<1.1.0,>=1.0.2 in /usr/local/lib/python3.7/dist-packages (from spacy->text-hammer) (1.0.5)\n",
            "Requirement already satisfied: wasabi<1.1.0,>=0.4.0 in /usr/local/lib/python3.7/dist-packages (from spacy->text-hammer) (0.8.2)\n",
            "Requirement already satisfied: tqdm<5.0.0,>=4.38.0 in /usr/local/lib/python3.7/dist-packages (from spacy->text-hammer) (4.62.3)\n",
            "Requirement already satisfied: cymem<2.1.0,>=2.0.2 in /usr/local/lib/python3.7/dist-packages (from spacy->text-hammer) (2.0.6)\n",
            "Requirement already satisfied: importlib-metadata>=0.20 in /usr/local/lib/python3.7/dist-packages (from catalogue<1.1.0,>=0.0.7->spacy->text-hammer) (4.8.2)\n",
            "Requirement already satisfied: zipp>=0.5 in /usr/local/lib/python3.7/dist-packages (from importlib-metadata>=0.20->catalogue<1.1.0,>=0.0.7->spacy->text-hammer) (3.6.0)\n",
            "Requirement already satisfied: typing-extensions>=3.6.4 in /usr/local/lib/python3.7/dist-packages (from importlib-metadata>=0.20->catalogue<1.1.0,>=0.0.7->spacy->text-hammer) (3.10.0.2)\n",
            "Requirement already satisfied: certifi>=2017.4.17 in /usr/local/lib/python3.7/dist-packages (from requests<3.0.0,>=2.13.0->spacy->text-hammer) (2021.10.8)\n",
            "Requirement already satisfied: urllib3!=1.25.0,!=1.25.1,<1.26,>=1.21.1 in /usr/local/lib/python3.7/dist-packages (from requests<3.0.0,>=2.13.0->spacy->text-hammer) (1.24.3)\n",
            "Requirement already satisfied: chardet<4,>=3.0.2 in /usr/local/lib/python3.7/dist-packages (from requests<3.0.0,>=2.13.0->spacy->text-hammer) (3.0.4)\n",
            "Requirement already satisfied: idna<3,>=2.5 in /usr/local/lib/python3.7/dist-packages (from requests<3.0.0,>=2.13.0->spacy->text-hammer) (2.10)\n",
            "Requirement already satisfied: nltk>=3.1 in /usr/local/lib/python3.7/dist-packages (from TextBlob->text-hammer) (3.2.5)\n",
            "Installing collected packages: soupsieve, beautifulsoup4, text-hammer\n",
            "  Attempting uninstall: beautifulsoup4\n",
            "    Found existing installation: beautifulsoup4 4.6.3\n",
            "    Uninstalling beautifulsoup4-4.6.3:\n",
            "      Successfully uninstalled beautifulsoup4-4.6.3\n",
            "Successfully installed beautifulsoup4-4.9.1 soupsieve-2.3.1 text-hammer-0.1.5\n"
          ]
        }
      ]
    },
    {
      "cell_type": "code",
      "metadata": {
        "_cell_guid": "b1076dfc-b9ad-4769-8c92-a6c4dae69d19",
        "_uuid": "8f2839f25d086af736a60e9eeb907d3b93b6e0e5",
        "execution": {
          "iopub.execute_input": "2021-06-08T08:39:35.170748Z",
          "iopub.status.busy": "2021-06-08T08:39:35.168942Z",
          "iopub.status.idle": "2021-06-08T08:39:35.198233Z",
          "shell.execute_reply": "2021-06-08T08:39:35.197463Z",
          "shell.execute_reply.started": "2021-06-03T13:58:31.614449Z"
        },
        "papermill": {
          "duration": 0.054256,
          "end_time": "2021-06-08T08:39:35.198406",
          "exception": false,
          "start_time": "2021-06-08T08:39:35.144150",
          "status": "completed"
        },
        "tags": [],
        "id": "3Lrx0vRFGHRJ",
        "colab": {
          "base_uri": "https://localhost:8080/"
        },
        "outputId": "24c1f225-55ac-41a3-8b6a-a45ebdb79f8e"
      },
      "source": [
        "import numpy as np \n",
        "import pandas as pd \n",
        "from sklearn.preprocessing import LabelEncoder\n",
        "from tensorflow.keras.utils import to_categorical\n",
        "import tensorflow as tf\n",
        "from tensorflow.keras.layers import Embedding,LSTM,Dense,Dropout\n",
        "from tensorflow.keras.preprocessing.text import one_hot\n",
        "from tensorflow.keras.preprocessing.sequence import pad_sequences\n",
        "from tensorflow.keras.models import Sequential\n",
        "import nltk\n",
        "import re\n",
        "from nltk.corpus import stopwords\n",
        "nltk.download('stopwords')\n",
        "from nltk.stem.porter import PorterStemmer\n",
        "import imblearn\n",
        "from imblearn.under_sampling import RandomUnderSampler\n",
        "from imblearn.over_sampling import RandomOverSampler\n",
        "from sklearn.model_selection import train_test_split\n",
        "from tensorflow.keras.callbacks import EarlyStopping, ModelCheckpoint\n",
        "import os\n",
        "for dirname, _, filenames in os.walk('/kaggle/input'):\n",
        "    for filename in filenames:\n",
        "        print(os.path.join(dirname, filename))"
      ],
      "id": "3Lrx0vRFGHRJ",
      "execution_count": 1,
      "outputs": [
        {
          "output_type": "stream",
          "name": "stdout",
          "text": [
            "[nltk_data] Downloading package stopwords to /root/nltk_data...\n",
            "[nltk_data]   Unzipping corpora/stopwords.zip.\n"
          ]
        }
      ]
    },
    {
      "cell_type": "code",
      "metadata": {
        "colab": {
          "base_uri": "https://localhost:8080/"
        },
        "id": "LL3CHH7zg612",
        "outputId": "2acfbcc9-a686-44ba-eb7d-32e8a73d2b2a"
      },
      "source": [
        "from google.colab import drive\n",
        "drive.mount('/content/drive')"
      ],
      "id": "LL3CHH7zg612",
      "execution_count": 2,
      "outputs": [
        {
          "output_type": "stream",
          "name": "stdout",
          "text": [
            "Mounted at /content/drive\n"
          ]
        }
      ]
    },
    {
      "cell_type": "code",
      "metadata": {
        "colab": {
          "base_uri": "https://localhost:8080/"
        },
        "id": "jxURwPpXLKAF",
        "outputId": "b8878bfb-982b-4d87-d1c7-1efe87848ab0"
      },
      "source": [
        "df.shape"
      ],
      "id": "jxURwPpXLKAF",
      "execution_count": null,
      "outputs": [
        {
          "output_type": "execute_result",
          "data": {
            "text/plain": [
              "(8674, 6)"
            ]
          },
          "metadata": {},
          "execution_count": 33
        }
      ]
    },
    {
      "cell_type": "code",
      "metadata": {
        "execution": {
          "iopub.execute_input": "2021-06-08T08:39:35.241326Z",
          "iopub.status.busy": "2021-06-08T08:39:35.240659Z",
          "iopub.status.idle": "2021-06-08T08:39:37.227411Z",
          "shell.execute_reply": "2021-06-08T08:39:37.227973Z",
          "shell.execute_reply.started": "2021-06-03T14:12:21.474373Z"
        },
        "papermill": {
          "duration": 2.01062,
          "end_time": "2021-06-08T08:39:37.228163",
          "exception": false,
          "start_time": "2021-06-08T08:39:35.217543",
          "status": "completed"
        },
        "tags": [],
        "colab": {
          "base_uri": "https://localhost:8080/",
          "height": 206
        },
        "id": "ntFfefZIGHRP",
        "outputId": "7db454e9-dfe2-4049-ccc9-d39253df1bee"
      },
      "source": [
        "df = pd.read_csv('/content/drive/MyDrive/Colab Notebooks/mbti_1_clean.csv')\n",
        "df.head()"
      ],
      "id": "ntFfefZIGHRP",
      "execution_count": 3,
      "outputs": [
        {
          "output_type": "execute_result",
          "data": {
            "text/html": [
              "<div>\n",
              "<style scoped>\n",
              "    .dataframe tbody tr th:only-of-type {\n",
              "        vertical-align: middle;\n",
              "    }\n",
              "\n",
              "    .dataframe tbody tr th {\n",
              "        vertical-align: top;\n",
              "    }\n",
              "\n",
              "    .dataframe thead th {\n",
              "        text-align: right;\n",
              "    }\n",
              "</style>\n",
              "<table border=\"1\" class=\"dataframe\">\n",
              "  <thead>\n",
              "    <tr style=\"text-align: right;\">\n",
              "      <th></th>\n",
              "      <th>Unnamed: 0</th>\n",
              "      <th>index</th>\n",
              "      <th>type</th>\n",
              "      <th>posts</th>\n",
              "    </tr>\n",
              "  </thead>\n",
              "  <tbody>\n",
              "    <tr>\n",
              "      <th>0</th>\n",
              "      <td>0</td>\n",
              "      <td>0</td>\n",
              "      <td>INFJ</td>\n",
              "      <td>enfp intj moment sportscenter play prankswhat ...</td>\n",
              "    </tr>\n",
              "    <tr>\n",
              "      <th>1</th>\n",
              "      <td>1</td>\n",
              "      <td>1</td>\n",
              "      <td>ENTP</td>\n",
              "      <td>i find lack post alarmingsex boring position o...</td>\n",
              "    </tr>\n",
              "    <tr>\n",
              "      <th>2</th>\n",
              "      <td>2</td>\n",
              "      <td>2</td>\n",
              "      <td>INTP</td>\n",
              "      <td>good _ _ _ _ _ of course know blessing cursedo...</td>\n",
              "    </tr>\n",
              "    <tr>\n",
              "      <th>3</th>\n",
              "      <td>3</td>\n",
              "      <td>3</td>\n",
              "      <td>INTJ</td>\n",
              "      <td>dear intp enjoy conversation day esoteric gabb...</td>\n",
              "    </tr>\n",
              "    <tr>\n",
              "      <th>4</th>\n",
              "      <td>4</td>\n",
              "      <td>4</td>\n",
              "      <td>ENTJ</td>\n",
              "      <td>you re firedthat silly misconception approach ...</td>\n",
              "    </tr>\n",
              "  </tbody>\n",
              "</table>\n",
              "</div>"
            ],
            "text/plain": [
              "   Unnamed: 0  index  type                                              posts\n",
              "0           0      0  INFJ  enfp intj moment sportscenter play prankswhat ...\n",
              "1           1      1  ENTP  i find lack post alarmingsex boring position o...\n",
              "2           2      2  INTP  good _ _ _ _ _ of course know blessing cursedo...\n",
              "3           3      3  INTJ  dear intp enjoy conversation day esoteric gabb...\n",
              "4           4      4  ENTJ  you re firedthat silly misconception approach ..."
            ]
          },
          "metadata": {},
          "execution_count": 3
        }
      ]
    },
    {
      "cell_type": "code",
      "metadata": {
        "colab": {
          "base_uri": "https://localhost:8080/",
          "height": 206
        },
        "id": "OF_GWGL5GMp5",
        "outputId": "8ed52c23-9f9c-48e7-f35d-a1b1662a2566"
      },
      "source": [
        "df = pd.read_csv('/content/drive/MyDrive/Colab Notebooks/mbti_1.csv')\n",
        "df.head()"
      ],
      "id": "OF_GWGL5GMp5",
      "execution_count": null,
      "outputs": [
        {
          "output_type": "execute_result",
          "data": {
            "text/html": [
              "<div>\n",
              "<style scoped>\n",
              "    .dataframe tbody tr th:only-of-type {\n",
              "        vertical-align: middle;\n",
              "    }\n",
              "\n",
              "    .dataframe tbody tr th {\n",
              "        vertical-align: top;\n",
              "    }\n",
              "\n",
              "    .dataframe thead th {\n",
              "        text-align: right;\n",
              "    }\n",
              "</style>\n",
              "<table border=\"1\" class=\"dataframe\">\n",
              "  <thead>\n",
              "    <tr style=\"text-align: right;\">\n",
              "      <th></th>\n",
              "      <th>type</th>\n",
              "      <th>posts</th>\n",
              "    </tr>\n",
              "  </thead>\n",
              "  <tbody>\n",
              "    <tr>\n",
              "      <th>0</th>\n",
              "      <td>INFJ</td>\n",
              "      <td>'http://www.youtube.com/watch?v=qsXHcwe3krw|||...</td>\n",
              "    </tr>\n",
              "    <tr>\n",
              "      <th>1</th>\n",
              "      <td>ENTP</td>\n",
              "      <td>'I'm finding the lack of me in these posts ver...</td>\n",
              "    </tr>\n",
              "    <tr>\n",
              "      <th>2</th>\n",
              "      <td>INTP</td>\n",
              "      <td>'Good one  _____   https://www.youtube.com/wat...</td>\n",
              "    </tr>\n",
              "    <tr>\n",
              "      <th>3</th>\n",
              "      <td>INTJ</td>\n",
              "      <td>'Dear INTP,   I enjoyed our conversation the o...</td>\n",
              "    </tr>\n",
              "    <tr>\n",
              "      <th>4</th>\n",
              "      <td>ENTJ</td>\n",
              "      <td>'You're fired.|||That's another silly misconce...</td>\n",
              "    </tr>\n",
              "  </tbody>\n",
              "</table>\n",
              "</div>"
            ],
            "text/plain": [
              "   type                                              posts\n",
              "0  INFJ  'http://www.youtube.com/watch?v=qsXHcwe3krw|||...\n",
              "1  ENTP  'I'm finding the lack of me in these posts ver...\n",
              "2  INTP  'Good one  _____   https://www.youtube.com/wat...\n",
              "3  INTJ  'Dear INTP,   I enjoyed our conversation the o...\n",
              "4  ENTJ  'You're fired.|||That's another silly misconce..."
            ]
          },
          "metadata": {},
          "execution_count": 6
        }
      ]
    },
    {
      "cell_type": "code",
      "metadata": {
        "id": "Q1rMrjByg4UB"
      },
      "source": [
        "df=df.dropna()\n",
        "df.reset_index(inplace=True)"
      ],
      "id": "Q1rMrjByg4UB",
      "execution_count": 4,
      "outputs": []
    },
    {
      "cell_type": "code",
      "metadata": {
        "execution": {
          "iopub.execute_input": "2021-06-08T08:39:37.271027Z",
          "iopub.status.busy": "2021-06-08T08:39:37.269995Z",
          "iopub.status.idle": "2021-06-08T08:39:37.307026Z",
          "shell.execute_reply": "2021-06-08T08:39:37.306400Z",
          "shell.execute_reply.started": "2021-06-03T14:12:22.178773Z"
        },
        "papermill": {
          "duration": 0.059868,
          "end_time": "2021-06-08T08:39:37.307194",
          "exception": false,
          "start_time": "2021-06-08T08:39:37.247326",
          "status": "completed"
        },
        "tags": [],
        "id": "6ZIq3kYzGHRU",
        "colab": {
          "base_uri": "https://localhost:8080/",
          "height": 305,
          "referenced_widgets": [
            "a13272dac5104708a0fa551274274395",
            "6e3efc3f44aa4863a432b2c9a510ff97",
            "ae79d1501baa4f11a0be1e9dbe0edbd7",
            "65452d95ddf14b6fb73ae782ea65227f",
            "abd876baa66a44409a026136872c56c0",
            "cb5d7cddd9644fd696bec7fa65ac763c",
            "5e6bde0a231442d1873564ff94f7b1d3",
            "973d74ffc3644335afd891c3cf0726c7",
            "f7d7053f1f71406ab9a72980cccfcfe0",
            "23c513803c654f5a92bde18f23361090",
            "4487a7472a304548a19390e211d65bc9",
            "85ecd65e25c844cb9643351ae0f2b63a",
            "38b74275592d42fa9a1fa2a3eb0bc6a9",
            "bf4eac89a378476ba6df80425f55959b",
            "d341c060ea3645d3b95a237b97e44b39",
            "dd536cd7f93c4dc488b1f39d89af34b6",
            "e24d3b90f14143298d227d9db986a47b",
            "b25561bebfae446682a8c0ac9362d145",
            "71281adf0df74036a4aa3f23c5867a2d",
            "cd48378711d54eb0ab28fb12d922bf07",
            "c70804463cd94853a9e73bba9858cea5",
            "7517bb696e204043b5c2b25b45e45f1d",
            "6de5085bead24574b3cf882f40d0d749",
            "42fa240ce34c45f488c508c4d1fb3bf4",
            "084a2cf7d8df410887ed3d78a446bcc4",
            "f563975ca09f44e4b1c096393859e9eb",
            "5d8bc3628b6c42a98f4cc73510910964",
            "9112a32223ee4485bce87e72a2e8e229",
            "1ec3bb25da6148c19ab4a1eae16483d5",
            "537d36cba5b54a7a9edd37dbf7512bbb",
            "246addfd2a8b4828bc62428f98cd818d",
            "9d0dfe2e24a342eaa48ae85697c80b67",
            "1227a8d416e146e19ec8856e044728cd",
            "8fe2bc4e32c747f99b0324d5f61f69c4",
            "a223a6a3814b4da4ad34b646d02cf8a5",
            "9d6f8fc684b64825b107d51025eb220a",
            "0164f3048afe4d22ac8254fb2595bfbf",
            "02fdd2934a6c4c2989c72c9d2ea4f0aa",
            "8527f994618f45df8bedf37e806f1269",
            "79f2e67fb4c046aabe91007005966ebc",
            "325e61be4cd34a059664ed01e418a93d",
            "70482b11163d4f2ba6bafadc9ac22a5b",
            "7b59cca1479d4b30aca03568d8d463d9",
            "7809dc3ab24b42978f19a28750432d70",
            "a874007859b24c04baa0488bed0563ef",
            "bcdddf3eca4346209d19511d996a16d6",
            "43cd5a2cf4ca4be6bfe072eb75ef2efc",
            "b82e43959247461691ddc644bf6e5dc9",
            "b33e3efead2847a897713def303f70d4",
            "0325f94e8f744d63b685189224a61260",
            "74911959b80442c08dda360451f62e91",
            "cf3c1c1343204f26b9e8048569f96c35",
            "d1d673b5067b4e63aba618a4d2049d56",
            "1b8f7969c5274d758d35ad2cb3b85d34",
            "9cc24933461e43c5979468c03fb75271",
            "2d6c5fcbdaaf4b4b88a31a95ab541585",
            "d86e40f372eb49e0877dc8616fed33db",
            "3170c2bd6fd94e6c9c95e9d4a63b9aee",
            "a55bab17cb7d420987a942b300e0b926",
            "8ece9f8d3ce64bf086794011c9d53ed5",
            "e1a9c75ead574424bb1557022c239163",
            "b972cfbb56d548638464aee6bae80312",
            "3d8c541b931e4bb1b0a1a41e116a7870",
            "7ebe962d25e2404aa41e46edd613757c",
            "b371f97658d644b2b6573b0440a7828f",
            "c73ff0dca9b64d1e9fc574c6cefa26d5",
            "19ffd17a13c24ed689b8eb22c54544af",
            "16a49fd5cef443d09dbda7a4b3488019",
            "b2d81eaa287c445d926bd1853a89ec47",
            "dcffe0df06bd482fbb816a1d817e4d1e",
            "4cac569e006e4133a72f8a564ff21f19",
            "2f9840df6e8a41a8aaafa630195b9b6d",
            "dee9b801fcb14623a0c5629c3b79f43d",
            "11849f5f7a5c4329a956102a770df087",
            "69bf43fda83244b9827c9540ce8ecf61",
            "ec999a8e512b43e8b688e57eecf80d22",
            "eecb0bafd1954cb4a5e3abee5a3f9d4c",
            "2d351491aac04ba1981c5db42570246c",
            "2b0528dd90c642a6a38a05575cabacbd",
            "d526cfe432544adbb1ce18c38618eb3b",
            "0e2b404b9ca74f37b1202d39421a026e",
            "0dafea8b913f49c984c204c919a4baa4",
            "82925866db9840d6ab5d66e2a2e464e4",
            "3365a42f6b4f4194abe9aeff84df847e",
            "83244585a8e448448a122e43d78da040",
            "19123276b38a4bf9b6fbff90f7a5034b",
            "32e4466248c343cf9a64aada4d97861c",
            "4edea48705eb446dab7e361d1fdfa4dd",
            "cd1ad64beee04f749324841681561e34",
            "b9b5258eeab24e7981a24ed1b1c72487",
            "ec93be8bd7904ac98df94a4c1aac20f9",
            "14efd16c6ebf4d56b2dfcdf4eb13cc94",
            "ce518c0d92394c4da963df532e87a874",
            "cdc3d7bafb8340d6afdb06de0a839592",
            "c6c3920037cc479e8643fae0805502c4",
            "9a42614a602c4860890d2976db85fef0",
            "23aa76f1d1dd4525ac8f76a9ead2a2e7",
            "56904c74960e4ffeb7d1b6be8136a7e3",
            "189c72c45aff459696bbc9921da6a22a"
          ]
        },
        "outputId": "1175cdb0-55d1-4b08-c17a-d109fa60a8a8"
      },
      "source": [
        "\n",
        "import text_hammer as th\n",
        "def text_preprocessing(df,col_name):\n",
        "    column = col_name\n",
        "    df[column] = df[column].progress_apply(lambda x:str(x).lower())\n",
        "    df[column] = df[column].progress_apply(lambda x: th.cont_exp(x)) #you're -> you are; i'm -> i am\n",
        "    df[column] = df[column].progress_apply(lambda x: th.remove_emails(x))\n",
        "    df[column] = df[column].progress_apply(lambda x: th.remove_html_tags(x))\n",
        "    df[column] = df[column].progress_apply(lambda x: th.remove_urls(x))\n",
        "    df[column] = df[column].progress_apply(lambda x: th.remove_stopwords(x))\n",
        "    df[column] = df[column].progress_apply(lambda x:th.spelling_correction(x))\n",
        "  \n",
        "    df[column] = df[column].progress_apply(lambda x: th.remove_special_chars(x))\n",
        "    df[column] = df[column].progress_apply(lambda x: th.remove_accented_chars(x))\n",
        "    df[column] = df[column].progress_apply(lambda x: th.make_base(x)) #ran -> run,\n",
        "    return(df)\n",
        "df = text_preprocessing(df,\"posts\")\n",
        "x=df['posts']"
      ],
      "id": "6ZIq3kYzGHRU",
      "execution_count": null,
      "outputs": [
        {
          "output_type": "display_data",
          "data": {
            "application/vnd.jupyter.widget-view+json": {
              "model_id": "a13272dac5104708a0fa551274274395",
              "version_minor": 0,
              "version_major": 2
            },
            "text/plain": [
              "  0%|          | 0/8675 [00:00<?, ?it/s]"
            ]
          },
          "metadata": {}
        },
        {
          "output_type": "display_data",
          "data": {
            "application/vnd.jupyter.widget-view+json": {
              "model_id": "85ecd65e25c844cb9643351ae0f2b63a",
              "version_minor": 0,
              "version_major": 2
            },
            "text/plain": [
              "  0%|          | 0/8675 [00:00<?, ?it/s]"
            ]
          },
          "metadata": {}
        },
        {
          "output_type": "display_data",
          "data": {
            "application/vnd.jupyter.widget-view+json": {
              "model_id": "6de5085bead24574b3cf882f40d0d749",
              "version_minor": 0,
              "version_major": 2
            },
            "text/plain": [
              "  0%|          | 0/8675 [00:00<?, ?it/s]"
            ]
          },
          "metadata": {}
        },
        {
          "output_type": "display_data",
          "data": {
            "application/vnd.jupyter.widget-view+json": {
              "model_id": "8fe2bc4e32c747f99b0324d5f61f69c4",
              "version_minor": 0,
              "version_major": 2
            },
            "text/plain": [
              "  0%|          | 0/8675 [00:00<?, ?it/s]"
            ]
          },
          "metadata": {}
        },
        {
          "output_type": "display_data",
          "data": {
            "application/vnd.jupyter.widget-view+json": {
              "model_id": "a874007859b24c04baa0488bed0563ef",
              "version_minor": 0,
              "version_major": 2
            },
            "text/plain": [
              "  0%|          | 0/8675 [00:00<?, ?it/s]"
            ]
          },
          "metadata": {}
        },
        {
          "output_type": "display_data",
          "data": {
            "application/vnd.jupyter.widget-view+json": {
              "model_id": "2d6c5fcbdaaf4b4b88a31a95ab541585",
              "version_minor": 0,
              "version_major": 2
            },
            "text/plain": [
              "  0%|          | 0/8675 [00:00<?, ?it/s]"
            ]
          },
          "metadata": {}
        },
        {
          "output_type": "display_data",
          "data": {
            "application/vnd.jupyter.widget-view+json": {
              "model_id": "19ffd17a13c24ed689b8eb22c54544af",
              "version_minor": 0,
              "version_major": 2
            },
            "text/plain": [
              "  0%|          | 0/8675 [00:00<?, ?it/s]"
            ]
          },
          "metadata": {}
        },
        {
          "output_type": "display_data",
          "data": {
            "application/vnd.jupyter.widget-view+json": {
              "model_id": "2d351491aac04ba1981c5db42570246c",
              "version_minor": 0,
              "version_major": 2
            },
            "text/plain": [
              "  0%|          | 0/8675 [00:00<?, ?it/s]"
            ]
          },
          "metadata": {}
        },
        {
          "output_type": "display_data",
          "data": {
            "application/vnd.jupyter.widget-view+json": {
              "model_id": "cd1ad64beee04f749324841681561e34",
              "version_minor": 0,
              "version_major": 2
            },
            "text/plain": [
              "  0%|          | 0/8675 [00:00<?, ?it/s]"
            ]
          },
          "metadata": {}
        }
      ]
    },
    {
      "cell_type": "code",
      "metadata": {
        "execution": {
          "iopub.execute_input": "2021-06-08T08:39:37.351439Z",
          "iopub.status.busy": "2021-06-08T08:39:37.350521Z",
          "iopub.status.idle": "2021-06-08T08:39:44.374205Z",
          "shell.execute_reply": "2021-06-08T08:39:44.374742Z",
          "shell.execute_reply.started": "2021-06-03T14:12:26.134625Z"
        },
        "papermill": {
          "duration": 7.048514,
          "end_time": "2021-06-08T08:39:44.374942",
          "exception": false,
          "start_time": "2021-06-08T08:39:37.326428",
          "status": "completed"
        },
        "tags": [],
        "id": "eORKtEx7GHRW",
        "colab": {
          "base_uri": "https://localhost:8080/"
        },
        "outputId": "914996c5-f3ec-495a-e082-0477dcd9f0ea"
      },
      "source": [
        "\n",
        "\n",
        "y = df.iloc[:,3].values\n",
        "print(\"before: \\n\",y)\n",
        "le=LabelEncoder()\n",
        "y=le.fit_transform(y)\n",
        "\n",
        "y=to_categorical(y)\n",
        "print(\"After: \\n\",y)"
      ],
      "id": "eORKtEx7GHRW",
      "execution_count": 6,
      "outputs": [
        {
          "output_type": "stream",
          "name": "stdout",
          "text": [
            "before: \n",
            " ['INFJ' 'ENTP' 'INTP' ... 'INTP' 'INFP' 'INFP']\n",
            "After: \n",
            " [[0. 0. 0. ... 0. 0. 0.]\n",
            " [0. 0. 0. ... 0. 0. 0.]\n",
            " [0. 0. 0. ... 0. 0. 0.]\n",
            " ...\n",
            " [0. 0. 0. ... 0. 0. 0.]\n",
            " [0. 0. 0. ... 0. 0. 0.]\n",
            " [0. 0. 0. ... 0. 0. 0.]]\n"
          ]
        }
      ]
    },
    {
      "cell_type": "code",
      "metadata": {
        "colab": {
          "base_uri": "https://localhost:8080/",
          "height": 325
        },
        "id": "JUV2UxsCn5Oe",
        "outputId": "96f3a9fc-0cf4-4482-9cd6-9afda3d57c44"
      },
      "source": [
        "import seaborn as sns\n",
        "import matplotlib.pyplot as plt\n",
        "sns.set()\n",
        "sns.countplot(df.iloc[:,3].values)\n",
        "plt.show()"
      ],
      "id": "JUV2UxsCn5Oe",
      "execution_count": 7,
      "outputs": [
        {
          "output_type": "stream",
          "name": "stderr",
          "text": [
            "/usr/local/lib/python3.7/dist-packages/seaborn/_decorators.py:43: FutureWarning: Pass the following variable as a keyword arg: x. From version 0.12, the only valid positional argument will be `data`, and passing other arguments without an explicit keyword will result in an error or misinterpretation.\n",
            "  FutureWarning\n"
          ]
        },
        {
          "output_type": "display_data",
          "data": {
            "image/png": "[encoded data removed]",
            "text/plain": [
              "<Figure size 432x288 with 1 Axes>"
            ]
          },
          "metadata": {}
        }
      ]
    },
    {
      "cell_type": "code",
      "metadata": {
        "colab": {
          "base_uri": "https://localhost:8080/",
          "height": 529
        },
        "id": "QzrSSP9ehlZ6",
        "outputId": "6744c75e-447e-445e-b2df-a6107e70e750"
      },
      "source": [
        "import matplotlib.pyplot as plt\n",
        "import seaborn as sns\n",
        "nltk.download('punkt')\n",
        "words_list = []\n",
        "for post in df['posts']:\n",
        "    words_list.extend(nltk.word_tokenize(post))\n",
        "freq_dist = nltk.FreqDist(words_list)\n",
        "freq_dist.most_common(20)\n",
        "temp = pd.DataFrame(freq_dist.most_common(30),  columns=['word', 'count'])\n",
        "fig, ax = plt.subplots(figsize=(10, 6))\n",
        "sns.barplot(x='word', y='count', \n",
        "            data=temp, ax=ax)\n",
        "plt.title(\"Top words\")\n",
        "plt.xticks(rotation='vertical')"
      ],
      "id": "QzrSSP9ehlZ6",
      "execution_count": 8,
      "outputs": [
        {
          "output_type": "stream",
          "name": "stdout",
          "text": [
            "[nltk_data] Downloading package punkt to /root/nltk_data...\n",
            "[nltk_data]   Unzipping tokenizers/punkt.zip.\n"
          ]
        },
        {
          "output_type": "execute_result",
          "data": {
            "text/plain": [
              "(array([ 0,  1,  2,  3,  4,  5,  6,  7,  8,  9, 10, 11, 12, 13, 14, 15, 16,\n",
              "        17, 18, 19, 20, 21, 22, 23, 24, 25, 26, 27, 28, 29]),\n",
              " <a list of 30 Text major ticklabel objects>)"
            ]
          },
          "metadata": {},
          "execution_count": 8
        },
        {
          "output_type": "display_data",
          "data": {
            "image/png": "[encoded data removed]",
            "text/plain": [
              "<Figure size 720x432 with 1 Axes>"
            ]
          },
          "metadata": {}
        }
      ]
    },
    {
      "cell_type": "code",
      "metadata": {
        "colab": {
          "base_uri": "https://localhost:8080/",
          "height": 425
        },
        "id": "hg2Mjycagf_q",
        "outputId": "9cb0dcef-b3e6-48c9-e65e-f230234f1360"
      },
      "source": [
        "from wordcloud import WordCloud\n",
        "import wordcloud\n",
        "# creation of wordcloud\n",
        "wcloud_fig = WordCloud( stopwords=set(wordcloud.STOPWORDS),\n",
        "                      colormap='viridis', width=300, height=200).generate_from_frequencies(freq_dist)\n",
        "\n",
        "# plotting the wordcloud\n",
        "plt.figure(figsize=(10,7), frameon=True)\n",
        "\n",
        "plt.imshow(wcloud_fig, interpolation  = 'bilinear')\n",
        "plt.show()"
      ],
      "id": "hg2Mjycagf_q",
      "execution_count": 9,
      "outputs": [
        {
          "output_type": "display_data",
          "data": {
            "image/png": "[encoded data removed]",
            "text/plain": [
              "<Figure size 720x504 with 1 Axes>"
            ]
          },
          "metadata": {}
        }
      ]
    },
    {
      "cell_type": "code",
      "metadata": {
        "colab": {
          "base_uri": "https://localhost:8080/",
          "height": 206
        },
        "id": "SDVtKG0qjUZ4",
        "outputId": "f501cdaf-3dbb-4afc-ef4e-9064d2021ccf"
      },
      "source": [
        "df['words_per_comment'] = df['posts'].apply(lambda x: len(x.split())/50)\n",
        "df.head()"
      ],
      "id": "SDVtKG0qjUZ4",
      "execution_count": 10,
      "outputs": [
        {
          "output_type": "execute_result",
          "data": {
            "text/html": [
              "<div>\n",
              "<style scoped>\n",
              "    .dataframe tbody tr th:only-of-type {\n",
              "        vertical-align: middle;\n",
              "    }\n",
              "\n",
              "    .dataframe tbody tr th {\n",
              "        vertical-align: top;\n",
              "    }\n",
              "\n",
              "    .dataframe thead th {\n",
              "        text-align: right;\n",
              "    }\n",
              "</style>\n",
              "<table border=\"1\" class=\"dataframe\">\n",
              "  <thead>\n",
              "    <tr style=\"text-align: right;\">\n",
              "      <th></th>\n",
              "      <th>level_0</th>\n",
              "      <th>Unnamed: 0</th>\n",
              "      <th>index</th>\n",
              "      <th>type</th>\n",
              "      <th>posts</th>\n",
              "      <th>words_per_comment</th>\n",
              "    </tr>\n",
              "  </thead>\n",
              "  <tbody>\n",
              "    <tr>\n",
              "      <th>0</th>\n",
              "      <td>0</td>\n",
              "      <td>0</td>\n",
              "      <td>0</td>\n",
              "      <td>INFJ</td>\n",
              "      <td>enfp intj moment sportscenter play prankswhat ...</td>\n",
              "      <td>5.64</td>\n",
              "    </tr>\n",
              "    <tr>\n",
              "      <th>1</th>\n",
              "      <td>1</td>\n",
              "      <td>1</td>\n",
              "      <td>1</td>\n",
              "      <td>ENTP</td>\n",
              "      <td>i find lack post alarmingsex boring position o...</td>\n",
              "      <td>8.92</td>\n",
              "    </tr>\n",
              "    <tr>\n",
              "      <th>2</th>\n",
              "      <td>2</td>\n",
              "      <td>2</td>\n",
              "      <td>2</td>\n",
              "      <td>INTP</td>\n",
              "      <td>good _ _ _ _ _ of course know blessing cursedo...</td>\n",
              "      <td>8.24</td>\n",
              "    </tr>\n",
              "    <tr>\n",
              "      <th>3</th>\n",
              "      <td>3</td>\n",
              "      <td>3</td>\n",
              "      <td>3</td>\n",
              "      <td>INTJ</td>\n",
              "      <td>dear intp enjoy conversation day esoteric gabb...</td>\n",
              "      <td>9.94</td>\n",
              "    </tr>\n",
              "    <tr>\n",
              "      <th>4</th>\n",
              "      <td>4</td>\n",
              "      <td>4</td>\n",
              "      <td>4</td>\n",
              "      <td>ENTJ</td>\n",
              "      <td>you re firedthat silly misconception approach ...</td>\n",
              "      <td>9.00</td>\n",
              "    </tr>\n",
              "  </tbody>\n",
              "</table>\n",
              "</div>"
            ],
            "text/plain": [
              "   level_0  ...  words_per_comment\n",
              "0        0  ...               5.64\n",
              "1        1  ...               8.92\n",
              "2        2  ...               8.24\n",
              "3        3  ...               9.94\n",
              "4        4  ...               9.00\n",
              "\n",
              "[5 rows x 6 columns]"
            ]
          },
          "metadata": {},
          "execution_count": 10
        }
      ]
    },
    {
      "cell_type": "code",
      "metadata": {
        "colab": {
          "base_uri": "https://localhost:8080/",
          "height": 906
        },
        "id": "CAdSLr1VjcD4",
        "outputId": "19596068-9143-4395-9fe4-5cae0d5f7c6a"
      },
      "source": [
        "plt.figure(figsize=(15,10))\n",
        "sns.swarmplot(\"type\", \"words_per_comment\", data=df)"
      ],
      "id": "CAdSLr1VjcD4",
      "execution_count": 11,
      "outputs": [
        {
          "output_type": "stream",
          "name": "stderr",
          "text": [
            "/usr/local/lib/python3.7/dist-packages/seaborn/_decorators.py:43: FutureWarning: Pass the following variables as keyword args: x, y. From version 0.12, the only valid positional argument will be `data`, and passing other arguments without an explicit keyword will result in an error or misinterpretation.\n",
            "  FutureWarning\n",
            "/usr/local/lib/python3.7/dist-packages/seaborn/categorical.py:1296: UserWarning: 64.7% of the points cannot be placed; you may want to decrease the size of the markers or use stripplot.\n",
            "  warnings.warn(msg, UserWarning)\n",
            "/usr/local/lib/python3.7/dist-packages/seaborn/categorical.py:1296: UserWarning: 41.0% of the points cannot be placed; you may want to decrease the size of the markers or use stripplot.\n",
            "  warnings.warn(msg, UserWarning)\n",
            "/usr/local/lib/python3.7/dist-packages/seaborn/categorical.py:1296: UserWarning: 61.0% of the points cannot be placed; you may want to decrease the size of the markers or use stripplot.\n",
            "  warnings.warn(msg, UserWarning)\n",
            "/usr/local/lib/python3.7/dist-packages/seaborn/categorical.py:1296: UserWarning: 55.2% of the points cannot be placed; you may want to decrease the size of the markers or use stripplot.\n",
            "  warnings.warn(msg, UserWarning)\n",
            "/usr/local/lib/python3.7/dist-packages/seaborn/categorical.py:1296: UserWarning: 69.9% of the points cannot be placed; you may want to decrease the size of the markers or use stripplot.\n",
            "  warnings.warn(msg, UserWarning)\n",
            "/usr/local/lib/python3.7/dist-packages/seaborn/categorical.py:1296: UserWarning: 11.9% of the points cannot be placed; you may want to decrease the size of the markers or use stripplot.\n",
            "  warnings.warn(msg, UserWarning)\n"
          ]
        },
        {
          "output_type": "execute_result",
          "data": {
            "text/plain": [
              "<matplotlib.axes._subplots.AxesSubplot at 0x7f0cbb777f50>"
            ]
          },
          "metadata": {},
          "execution_count": 11
        },
        {
          "output_type": "display_data",
          "data": {
            "image/png": "[encoded data removed]",
            "text/plain": [
              "<Figure size 1080x720 with 1 Axes>"
            ]
          },
          "metadata": {}
        }
      ]
    },
    {
      "cell_type": "code",
      "metadata": {
        "execution": {
          "iopub.execute_input": "2021-06-08T08:39:44.463185Z",
          "iopub.status.busy": "2021-06-08T08:39:44.462194Z",
          "iopub.status.idle": "2021-06-08T08:39:44.471029Z",
          "shell.execute_reply": "2021-06-08T08:39:44.471486Z",
          "shell.execute_reply.started": "2021-06-03T15:14:32.901179Z"
        },
        "papermill": {
          "duration": 0.031224,
          "end_time": "2021-06-08T08:39:44.471684",
          "exception": false,
          "start_time": "2021-06-08T08:39:44.440460",
          "status": "completed"
        },
        "tags": [],
        "colab": {
          "base_uri": "https://localhost:8080/"
        },
        "id": "LtrdSCx8GHRa",
        "outputId": "0d6825b5-bfc3-4f3e-8887-35bf08f0e7e4"
      },
      "source": [
        "voc_size = 50000\n",
        "messages=df['posts'].copy()\n",
        "messages\n",
        "\n"
      ],
      "id": "LtrdSCx8GHRa",
      "execution_count": 12,
      "outputs": [
        {
          "output_type": "execute_result",
          "data": {
            "text/plain": [
              "0       enfp intj moment sportscenter play prankswhat ...\n",
              "1       i find lack post alarmingsex boring position o...\n",
              "2       good _ _ _ _ _ of course know blessing cursedo...\n",
              "3       dear intp enjoy conversation day esoteric gabb...\n",
              "4       you re firedthat silly misconception approach ...\n",
              "                              ...                        \n",
              "8669    ixfp think cat fi dom reason especially websit...\n",
              "8670    soif thread exist someplace which do heck dele...\n",
              "8671    so question thing purple pill pick win lottery...\n",
              "8672    i conflict right come want child honestly mate...\n",
              "8673    it long personalitycafe change bit good like t...\n",
              "Name: posts, Length: 8674, dtype: object"
            ]
          },
          "metadata": {},
          "execution_count": 12
        }
      ]
    },
    {
      "cell_type": "code",
      "metadata": {
        "execution": {
          "iopub.execute_input": "2021-06-08T08:39:45.619153Z",
          "iopub.status.busy": "2021-06-08T08:39:45.618436Z",
          "iopub.status.idle": "2021-06-08T08:40:05.631488Z",
          "shell.execute_reply": "2021-06-08T08:40:05.630480Z",
          "shell.execute_reply.started": "2021-06-03T14:12:29.474819Z"
        },
        "papermill": {
          "duration": 20.041591,
          "end_time": "2021-06-08T08:40:05.631678",
          "exception": false,
          "start_time": "2021-06-08T08:39:45.590087",
          "status": "completed"
        },
        "tags": [],
        "id": "lklQLEoxGHRf"
      },
      "source": [
        "\n",
        "ps=PorterStemmer()\n",
        "corpus=[]\n",
        "for i in range (0,len(messages)):\n",
        "    review = re.sub('[^a-zA-Z]','',messages[i])\n",
        "    review=review.lower()\n",
        "    review=review.split()\n",
        "    \n",
        "    review = [ps.stem(word) for word in review if not word in stopwords.words('english') ]\n",
        "    review=''.join(review)\n",
        "    corpus.append(review)"
      ],
      "id": "lklQLEoxGHRf",
      "execution_count": 13,
      "outputs": []
    },
    {
      "cell_type": "code",
      "metadata": {
        "execution": {
          "iopub.execute_input": "2021-06-08T08:40:05.706008Z",
          "iopub.status.busy": "2021-06-08T08:40:05.695527Z",
          "iopub.status.idle": "2021-06-08T08:40:05.909387Z",
          "shell.execute_reply": "2021-06-08T08:40:05.908835Z",
          "shell.execute_reply.started": "2021-06-03T14:12:50.264611Z"
        },
        "papermill": {
          "duration": 0.257742,
          "end_time": "2021-06-08T08:40:05.909550",
          "exception": false,
          "start_time": "2021-06-08T08:40:05.651808",
          "status": "completed"
        },
        "tags": [],
        "id": "AxeXBzwFGHRh"
      },
      "source": [
        "oe=[one_hot(words,voc_size) for words in corpus ]"
      ],
      "id": "AxeXBzwFGHRh",
      "execution_count": 14,
      "outputs": []
    },
    {
      "cell_type": "code",
      "metadata": {
        "execution": {
          "iopub.execute_input": "2021-06-08T08:40:05.956060Z",
          "iopub.status.busy": "2021-06-08T08:40:05.955373Z",
          "iopub.status.idle": "2021-06-08T08:40:06.012946Z",
          "shell.execute_reply": "2021-06-08T08:40:06.012181Z",
          "shell.execute_reply.started": "2021-06-03T14:12:50.506285Z"
        },
        "papermill": {
          "duration": 0.083475,
          "end_time": "2021-06-08T08:40:06.013095",
          "exception": false,
          "start_time": "2021-06-08T08:40:05.929620",
          "status": "completed"
        },
        "tags": [],
        "id": "SHcTwN7nGHRj",
        "colab": {
          "base_uri": "https://localhost:8080/"
        },
        "outputId": "954d5989-204d-43d6-e998-dfb7125c33b2"
      },
      "source": [
        "sent_length=250\n",
        "embedded_docs = pad_sequences(oe,padding='pre',maxlen = sent_length)\n",
        "embedded_docs"
      ],
      "id": "SHcTwN7nGHRj",
      "execution_count": 15,
      "outputs": [
        {
          "output_type": "execute_result",
          "data": {
            "text/plain": [
              "array([[    0,     0,     0, ...,     0,     0, 17058],\n",
              "       [    0,     0,     0, ...,     0,     0, 49335],\n",
              "       [    0,     0,     0, ...,     0,     0, 40121],\n",
              "       ...,\n",
              "       [    0,     0,     0, ...,     0,     0, 35493],\n",
              "       [    0,     0,     0, ...,     0,     0, 46872],\n",
              "       [    0,     0,     0, ...,     0,     0, 18163]], dtype=int32)"
            ]
          },
          "metadata": {},
          "execution_count": 15
        }
      ]
    },
    {
      "cell_type": "code",
      "metadata": {
        "execution": {
          "iopub.execute_input": "2021-06-08T08:40:06.060357Z",
          "iopub.status.busy": "2021-06-08T08:40:06.059631Z",
          "iopub.status.idle": "2021-06-08T08:40:06.546507Z",
          "shell.execute_reply": "2021-06-08T08:40:06.545941Z",
          "shell.execute_reply.started": "2021-06-03T14:12:50.569817Z"
        },
        "papermill": {
          "duration": 0.513457,
          "end_time": "2021-06-08T08:40:06.546690",
          "exception": false,
          "start_time": "2021-06-08T08:40:06.033233",
          "status": "completed"
        },
        "tags": [],
        "id": "4WHRZ26IGHRl",
        "colab": {
          "base_uri": "https://localhost:8080/"
        },
        "outputId": "3aed3e05-800b-4585-b739-1d6946487ab9"
      },
      "source": [
        "dimension=100\n",
        "model = Sequential()\n",
        "model.add(Embedding(voc_size,dimension,input_length = sent_length))\n",
        "model.add(Dropout(0.25))\n",
        "model.add(LSTM(100))\n",
        "model.add(Dropout(0.25))\n",
        "model.add(Dense(16,activation='softmax'))\n",
        "model.compile(loss='categorical_crossentropy',optimizer ='adam',metrics=['accuracy'])\n",
        "model.summary()"
      ],
      "id": "4WHRZ26IGHRl",
      "execution_count": 51,
      "outputs": [
        {
          "output_type": "stream",
          "name": "stdout",
          "text": [
            "Model: \"sequential_3\"\n",
            "_________________________________________________________________\n",
            " Layer (type)                Output Shape              Param #   \n",
            "=================================================================\n",
            " embedding_3 (Embedding)     (None, 250, 100)          5000000   \n",
            "                                                                 \n",
            " dropout_4 (Dropout)         (None, 250, 100)          0         \n",
            "                                                                 \n",
            " lstm_1 (LSTM)               (None, 100)               80400     \n",
            "                                                                 \n",
            " dropout_5 (Dropout)         (None, 100)               0         \n",
            "                                                                 \n",
            " dense_3 (Dense)             (None, 16)                1616      \n",
            "                                                                 \n",
            "=================================================================\n",
            "Total params: 5,082,016\n",
            "Trainable params: 5,082,016\n",
            "Non-trainable params: 0\n",
            "_________________________________________________________________\n"
          ]
        }
      ]
    },
    {
      "cell_type": "code",
      "metadata": {
        "execution": {
          "iopub.execute_input": "2021-06-08T08:40:06.652017Z",
          "iopub.status.busy": "2021-06-08T08:40:06.651237Z",
          "iopub.status.idle": "2021-06-08T08:40:06.655911Z",
          "shell.execute_reply": "2021-06-08T08:40:06.655343Z",
          "shell.execute_reply.started": "2021-06-03T14:15:36.064465Z"
        },
        "papermill": {
          "duration": 0.036586,
          "end_time": "2021-06-08T08:40:06.656055",
          "exception": false,
          "start_time": "2021-06-08T08:40:06.619469",
          "status": "completed"
        },
        "tags": [],
        "colab": {
          "base_uri": "https://localhost:8080/"
        },
        "id": "MIhjJ_KMGHRn",
        "outputId": "797cc51d-7652-4404-d4d2-6231f1ba027d"
      },
      "source": [
        "\n",
        "df.type.value_counts()"
      ],
      "id": "MIhjJ_KMGHRn",
      "execution_count": 18,
      "outputs": [
        {
          "output_type": "execute_result",
          "data": {
            "text/plain": [
              "INFP    1832\n",
              "INFJ    1469\n",
              "INTP    1304\n",
              "INTJ    1091\n",
              "ENTP     685\n",
              "ENFP     675\n",
              "ISTP     337\n",
              "ISFP     271\n",
              "ENTJ     231\n",
              "ISTJ     205\n",
              "ENFJ     190\n",
              "ISFJ     166\n",
              "ESTP      89\n",
              "ESFP      48\n",
              "ESFJ      42\n",
              "ESTJ      39\n",
              "Name: type, dtype: int64"
            ]
          },
          "metadata": {},
          "execution_count": 18
        }
      ]
    },
    {
      "cell_type": "code",
      "metadata": {
        "execution": {
          "iopub.execute_input": "2021-06-08T08:40:06.593037Z",
          "iopub.status.busy": "2021-06-08T08:40:06.592280Z",
          "iopub.status.idle": "2021-06-08T08:40:06.598501Z",
          "shell.execute_reply": "2021-06-08T08:40:06.599013Z",
          "shell.execute_reply.started": "2021-06-03T14:12:50.876511Z"
        },
        "papermill": {
          "duration": 0.03181,
          "end_time": "2021-06-08T08:40:06.599217",
          "exception": false,
          "start_time": "2021-06-08T08:40:06.567407",
          "status": "completed"
        },
        "tags": [],
        "id": "Nha_O2WrGHRm"
      },
      "source": [
        "\n",
        "X=np.array(embedded_docs)\n"
      ],
      "id": "Nha_O2WrGHRm",
      "execution_count": 17,
      "outputs": []
    },
    {
      "cell_type": "code",
      "metadata": {
        "execution": {
          "iopub.execute_input": "2021-06-08T08:40:06.700144Z",
          "iopub.status.busy": "2021-06-08T08:40:06.699476Z",
          "iopub.status.idle": "2021-06-08T08:40:07.115513Z",
          "shell.execute_reply": "2021-06-08T08:40:07.114903Z",
          "shell.execute_reply.started": "2021-06-03T14:20:37.78434Z"
        },
        "papermill": {
          "duration": 0.439253,
          "end_time": "2021-06-08T08:40:07.115687",
          "exception": false,
          "start_time": "2021-06-08T08:40:06.676434",
          "status": "completed"
        },
        "tags": [],
        "id": "1agBe2g-GHRo"
      },
      "source": [
        "\n",
        "\n",
        "ros = RandomOverSampler(random_state=42) # fit predictor and target variable\n",
        "x_rus, y_rus = ros.fit_resample(X, y)\n"
      ],
      "id": "1agBe2g-GHRo",
      "execution_count": 19,
      "outputs": []
    },
    {
      "cell_type": "code",
      "metadata": {
        "execution": {
          "iopub.execute_input": "2021-06-08T08:40:07.166201Z",
          "iopub.status.busy": "2021-06-08T08:40:07.164742Z",
          "iopub.status.idle": "2021-06-08T08:40:07.183781Z",
          "shell.execute_reply": "2021-06-08T08:40:07.183176Z",
          "shell.execute_reply.started": "2021-06-03T14:21:55.250124Z"
        },
        "papermill": {
          "duration": 0.046427,
          "end_time": "2021-06-08T08:40:07.183951",
          "exception": false,
          "start_time": "2021-06-08T08:40:07.137524",
          "status": "completed"
        },
        "tags": [],
        "id": "aW9HMXzoGHRp"
      },
      "source": [
        "\n",
        "x_train,x_test,y_train,y_test=train_test_split(x_rus, y_rus, test_size=0.2, random_state=42)"
      ],
      "id": "aW9HMXzoGHRp",
      "execution_count": 20,
      "outputs": []
    },
    {
      "cell_type": "code",
      "metadata": {
        "id": "3tV-OHP-jfh9"
      },
      "source": [
        "callbacks = [EarlyStopping( monitor=\"val_accuracy\", patience=2 ),\n",
        "            ModelCheckpoint('./model0.h5', monitor = 'val_accuracy', mode = 'max', verbose = 1, save_best_only = True)]"
      ],
      "id": "3tV-OHP-jfh9",
      "execution_count": 52,
      "outputs": []
    },
    {
      "cell_type": "code",
      "metadata": {
        "execution": {
          "iopub.execute_input": "2021-06-08T08:40:07.232268Z",
          "iopub.status.busy": "2021-06-08T08:40:07.231538Z",
          "iopub.status.idle": "2021-06-08T08:58:59.129418Z",
          "shell.execute_reply": "2021-06-08T08:58:59.130103Z",
          "shell.execute_reply.started": "2021-06-03T14:21:56.29057Z"
        },
        "papermill": {
          "duration": 1131.925136,
          "end_time": "2021-06-08T08:58:59.130298",
          "exception": false,
          "start_time": "2021-06-08T08:40:07.205162",
          "status": "completed"
        },
        "scrolled": true,
        "tags": [],
        "colab": {
          "base_uri": "https://localhost:8080/"
        },
        "id": "RirOuR6hGHRq",
        "outputId": "f9ddb598-c35b-4e0f-8b03-196d790f0e62"
      },
      "source": [
        "history = model.fit(x_train,y_train,validation_data=(x_test,y_test),epochs=20,batch_size=64, callbacks = callbacks )"
      ],
      "id": "RirOuR6hGHRq",
      "execution_count": 53,
      "outputs": [
        {
          "output_type": "stream",
          "name": "stdout",
          "text": [
            "Epoch 1/20\n",
            "367/367 [==============================] - ETA: 0s - loss: 2.1788 - accuracy: 0.3464\n",
            "Epoch 00001: val_accuracy improved from -inf to 0.70851, saving model to ./model0.h5\n",
            "367/367 [==============================] - 149s 399ms/step - loss: 2.1788 - accuracy: 0.3464 - val_loss: 1.0326 - val_accuracy: 0.7085\n",
            "Epoch 2/20\n",
            "367/367 [==============================] - ETA: 0s - loss: 0.6305 - accuracy: 0.8322\n",
            "Epoch 00002: val_accuracy improved from 0.70851 to 0.84632, saving model to ./model0.h5\n",
            "367/367 [==============================] - 144s 393ms/step - loss: 0.6305 - accuracy: 0.8322 - val_loss: 0.5089 - val_accuracy: 0.8463\n",
            "Epoch 3/20\n",
            "367/367 [==============================] - ETA: 0s - loss: 0.2546 - accuracy: 0.9494\n",
            "Epoch 00003: val_accuracy did not improve from 0.84632\n",
            "367/367 [==============================] - 144s 392ms/step - loss: 0.2546 - accuracy: 0.9494 - val_loss: 0.4809 - val_accuracy: 0.8436\n",
            "Epoch 4/20\n",
            "367/367 [==============================] - ETA: 0s - loss: 0.1580 - accuracy: 0.9577\n",
            "Epoch 00004: val_accuracy improved from 0.84632 to 0.84957, saving model to ./model0.h5\n",
            "367/367 [==============================] - 144s 394ms/step - loss: 0.1580 - accuracy: 0.9577 - val_loss: 0.5116 - val_accuracy: 0.8496\n",
            "Epoch 5/20\n",
            "367/367 [==============================] - ETA: 0s - loss: 0.1362 - accuracy: 0.9574\n",
            "Epoch 00005: val_accuracy improved from 0.84957 to 0.84974, saving model to ./model0.h5\n",
            "367/367 [==============================] - 145s 394ms/step - loss: 0.1362 - accuracy: 0.9574 - val_loss: 0.5012 - val_accuracy: 0.8497\n",
            "Epoch 6/20\n",
            "367/367 [==============================] - ETA: 0s - loss: 0.1279 - accuracy: 0.9571\n",
            "Epoch 00006: val_accuracy did not improve from 0.84974\n",
            "367/367 [==============================] - 145s 395ms/step - loss: 0.1279 - accuracy: 0.9571 - val_loss: 0.4895 - val_accuracy: 0.8468\n",
            "Epoch 7/20\n",
            "367/367 [==============================] - ETA: 0s - loss: 0.1204 - accuracy: 0.9586\n",
            "Epoch 00007: val_accuracy did not improve from 0.84974\n",
            "367/367 [==============================] - 144s 391ms/step - loss: 0.1204 - accuracy: 0.9586 - val_loss: 0.4965 - val_accuracy: 0.8494\n"
          ]
        }
      ]
    },
    {
      "cell_type": "code",
      "metadata": {
        "colab": {
          "base_uri": "https://localhost:8080/"
        },
        "id": "91dPmEenB4Mu",
        "outputId": "a547279e-fd3b-4345-c357-69b42683b300"
      },
      "source": [
        "model = tf.keras.models.load_model('model0.h5')\n",
        "preds = model.predict(x_test)\n",
        "eval = model.evaluate(x_test,y_test)\n",
        "print(\"Val. Loss: \",eval[0])\n",
        "print(\"Val. Accuracy: \",eval[1])"
      ],
      "id": "91dPmEenB4Mu",
      "execution_count": 54,
      "outputs": [
        {
          "output_type": "stream",
          "name": "stdout",
          "text": [
            "184/184 [==============================] - 11s 56ms/step - loss: 0.5012 - accuracy: 0.8497\n",
            "Val. Loss:  0.5011693835258484\n",
            "Val. Accuracy:  0.8497356176376343\n"
          ]
        }
      ]
    },
    {
      "cell_type": "code",
      "metadata": {
        "colab": {
          "base_uri": "https://localhost:8080/"
        },
        "id": "ASpcscXXjAP1",
        "outputId": "dc9175c1-57e0-407e-ed1f-02d2fd369723"
      },
      "source": [
        "from sklearn.metrics import confusion_matrix\n",
        "true_cat = []\n",
        "for y in y_test:\n",
        "  true_cat.append(np.where(y==1)[0])\n",
        "predicted_cat = tf.argmax(preds, axis=1)\n",
        "predicted_cat\n",
        "print(confusion_matrix(predicted_cat, true_cat))"
      ],
      "id": "ASpcscXXjAP1",
      "execution_count": 55,
      "outputs": [
        {
          "output_type": "stream",
          "name": "stdout",
          "text": [
            "[[366   1   0   1   0   0   0   0   1   1   0   1   0   2   0   0]\n",
            " [  0 289   0   2   0   0   0   0   4   3   4   6   0   3   0   3]\n",
            " [  5   1 397   1   0   0   0   0   2   0   0   0   0   1   0   4]\n",
            " [  0   2   0 288   0   0   0   0   3   2   6   3   0   1   0   2]\n",
            " [  0   0   0   0 381   0   0   0   1   0   0   0   0   4   0   0]\n",
            " [  0   0   0   0   0 369   0   0   0   0   0   0   0   0   3   0]\n",
            " [  0   0   0   0   0   0 349   0   0   0   1   0   4   0   0   0]\n",
            " [  1   0   0   0   0   0   0 381   0   1   0   0   0   0   0   0]\n",
            " [  0   8   0   9   0   0   0   0 112  20  17  19   0   0   0   0]\n",
            " [  0  59   0  35   0   0   0   0 210 280 133 156   0   0   0   2]\n",
            " [  0   1   1   1   0   0   0   0   5   6 203  14   0   4   0   1]\n",
            " [  0   1   3   3   0   0   0   0   4   5   3 138   0   0   0   0]\n",
            " [  0   0   1   1   0   0   0   0   1   1   2   4 355   0   0   0]\n",
            " [  3   3   0   0   0   0   0   0   4   5   4   3   0 369   0   0]\n",
            " [  0   2   0   7   0   0   0   0   1   1   2   2   0   1 354   1]\n",
            " [  0   1   2   3   0   0   0   3   4   5   4   1   1   7   1 351]]\n"
          ]
        }
      ]
    },
    {
      "cell_type": "code",
      "metadata": {
        "id": "zSV3g-DFbDBv",
        "colab": {
          "base_uri": "https://localhost:8080/"
        },
        "outputId": "011c3e13-932c-4be8-aea5-4a05bde7f513"
      },
      "source": [
        "max_features =50000\n",
        "embedding_dim =64\n",
        "sequence_length = 250\n",
        "\n",
        "model2 = tf.keras.Sequential()\n",
        "\n",
        "model2.add(tf.keras.layers.Embedding(max_features +1, embedding_dim, input_length=sequence_length, ))                                 \n",
        "\n",
        "model2.add(tf.keras.layers.Conv1D(128,16, activation='relu'))                               \n",
        "\n",
        "model2.add(tf.keras.layers.GlobalMaxPooling1D())\n",
        "\n",
        "model2.add(tf.keras.layers.Dropout(0.5))\n",
        "\n",
        "model2.add(tf.keras.layers.Dense(16, activation='sigmoid'))\n",
        "\n",
        "model2.compile(loss=tf.keras.losses.CategoricalCrossentropy(from_logits=True), optimizer='Nadam', metrics=[\"accuracy\"])\n",
        "model2.summary()"
      ],
      "id": "zSV3g-DFbDBv",
      "execution_count": 22,
      "outputs": [
        {
          "output_type": "stream",
          "name": "stdout",
          "text": [
            "Model: \"sequential_1\"\n",
            "_________________________________________________________________\n",
            " Layer (type)                Output Shape              Param #   \n",
            "=================================================================\n",
            " embedding_1 (Embedding)     (None, 250, 64)           3200064   \n",
            "                                                                 \n",
            " conv1d (Conv1D)             (None, 235, 128)          131200    \n",
            "                                                                 \n",
            " global_max_pooling1d (Globa  (None, 128)              0         \n",
            " lMaxPooling1D)                                                  \n",
            "                                                                 \n",
            " dropout_2 (Dropout)         (None, 128)               0         \n",
            "                                                                 \n",
            " dense_1 (Dense)             (None, 16)                2064      \n",
            "                                                                 \n",
            "=================================================================\n",
            "Total params: 3,333,328\n",
            "Trainable params: 3,333,328\n",
            "Non-trainable params: 0\n",
            "_________________________________________________________________\n"
          ]
        }
      ]
    },
    {
      "cell_type": "code",
      "metadata": {
        "execution": {
          "iopub.execute_input": "2021-06-08T08:59:01.001124Z",
          "iopub.status.busy": "2021-06-08T08:59:00.999827Z",
          "iopub.status.idle": "2021-06-08T08:59:01.124163Z",
          "shell.execute_reply": "2021-06-08T08:59:01.123535Z",
          "shell.execute_reply.started": "2021-06-03T14:39:02.360387Z"
        },
        "papermill": {
          "duration": 1.060657,
          "end_time": "2021-06-08T08:59:01.124303",
          "exception": false,
          "start_time": "2021-06-08T08:59:00.063646",
          "status": "completed"
        },
        "tags": [],
        "id": "RqbjHyamGHRr",
        "colab": {
          "base_uri": "https://localhost:8080/"
        },
        "outputId": "573d3d5f-f72b-4f01-cadc-91076eab0176"
      },
      "source": [
        "history_2 = model2.fit(x_train,y_train,validation_data=(x_test,y_test),epochs=20,batch_size=64, callbacks = callbacks )"
      ],
      "id": "RqbjHyamGHRr",
      "execution_count": 23,
      "outputs": [
        {
          "output_type": "stream",
          "name": "stdout",
          "text": [
            "Epoch 1/20\n"
          ]
        },
        {
          "output_type": "stream",
          "name": "stderr",
          "text": [
            "/usr/local/lib/python3.7/dist-packages/tensorflow/python/util/dispatch.py:1096: UserWarning: \"`categorical_crossentropy` received `from_logits=True`, but the `output` argument was produced by a sigmoid or softmax activation and thus does not represent logits. Was this intended?\"\n",
            "  return dispatch_target(*args, **kwargs)\n"
          ]
        },
        {
          "output_type": "stream",
          "name": "stdout",
          "text": [
            "367/367 [==============================] - ETA: 0s - loss: 2.5092 - accuracy: 0.2062\n",
            "Epoch 00001: val_accuracy improved from -inf to 0.53369, saving model to ./model.h5\n",
            "367/367 [==============================] - 125s 338ms/step - loss: 2.5092 - accuracy: 0.2062 - val_loss: 1.6814 - val_accuracy: 0.5337\n",
            "Epoch 2/20\n",
            "367/367 [==============================] - ETA: 0s - loss: 1.2505 - accuracy: 0.5956\n",
            "Epoch 00002: val_accuracy improved from 0.53369 to 0.76787, saving model to ./model.h5\n",
            "367/367 [==============================] - 123s 336ms/step - loss: 1.2505 - accuracy: 0.5956 - val_loss: 0.8380 - val_accuracy: 0.7679\n",
            "Epoch 3/20\n",
            "367/367 [==============================] - ETA: 0s - loss: 0.7266 - accuracy: 0.7820\n",
            "Epoch 00003: val_accuracy improved from 0.76787 to 0.82995, saving model to ./model.h5\n",
            "367/367 [==============================] - 123s 337ms/step - loss: 0.7266 - accuracy: 0.7820 - val_loss: 0.5913 - val_accuracy: 0.8300\n",
            "Epoch 4/20\n",
            "367/367 [==============================] - ETA: 0s - loss: 0.4742 - accuracy: 0.8781\n",
            "Epoch 00004: val_accuracy improved from 0.82995 to 0.84581, saving model to ./model.h5\n",
            "367/367 [==============================] - 123s 334ms/step - loss: 0.4742 - accuracy: 0.8781 - val_loss: 0.5345 - val_accuracy: 0.8458\n",
            "Epoch 5/20\n",
            "367/367 [==============================] - ETA: 0s - loss: 0.3497 - accuracy: 0.9229\n",
            "Epoch 00005: val_accuracy improved from 0.84581 to 0.84752, saving model to ./model.h5\n",
            "367/367 [==============================] - 122s 332ms/step - loss: 0.3497 - accuracy: 0.9229 - val_loss: 0.5315 - val_accuracy: 0.8475\n",
            "Epoch 6/20\n",
            "367/367 [==============================] - ETA: 0s - loss: 0.2702 - accuracy: 0.9443\n",
            "Epoch 00006: val_accuracy did not improve from 0.84752\n",
            "367/367 [==============================] - 120s 327ms/step - loss: 0.2702 - accuracy: 0.9443 - val_loss: 0.5337 - val_accuracy: 0.8456\n",
            "Epoch 7/20\n",
            "367/367 [==============================] - ETA: 0s - loss: 0.2251 - accuracy: 0.9528\n",
            "Epoch 00007: val_accuracy improved from 0.84752 to 0.85212, saving model to ./model.h5\n",
            "367/367 [==============================] - 120s 326ms/step - loss: 0.2251 - accuracy: 0.9528 - val_loss: 0.5461 - val_accuracy: 0.8521\n",
            "Epoch 8/20\n",
            "367/367 [==============================] - ETA: 0s - loss: 0.1978 - accuracy: 0.9553\n",
            "Epoch 00008: val_accuracy did not improve from 0.85212\n",
            "367/367 [==============================] - 119s 325ms/step - loss: 0.1978 - accuracy: 0.9553 - val_loss: 0.5442 - val_accuracy: 0.8504\n",
            "Epoch 9/20\n",
            "367/367 [==============================] - ETA: 0s - loss: 0.1837 - accuracy: 0.9562\n",
            "Epoch 00009: val_accuracy did not improve from 0.85212\n",
            "367/367 [==============================] - 119s 324ms/step - loss: 0.1837 - accuracy: 0.9562 - val_loss: 0.5536 - val_accuracy: 0.8479\n"
          ]
        }
      ]
    },
    {
      "cell_type": "code",
      "metadata": {
        "colab": {
          "base_uri": "https://localhost:8080/"
        },
        "id": "J-_isK1v3vro",
        "outputId": "8c15ab83-46bc-4836-b803-b160473c71a2"
      },
      "source": [
        "model = tf.keras.models.load_model('model.h5')\n",
        "preds = model.predict(x_test)\n",
        "eval = model.evaluate(x_test,y_test)\n",
        "print(\"Val. Loss: \",eval[0])\n",
        "print(\"Val. Accuracy: \",eval[1])"
      ],
      "id": "J-_isK1v3vro",
      "execution_count": 43,
      "outputs": [
        {
          "output_type": "stream",
          "name": "stdout",
          "text": [
            "\r  1/184 [..............................] - ETA: 34s - loss: 0.3425 - accuracy: 0.8750"
          ]
        },
        {
          "output_type": "stream",
          "name": "stderr",
          "text": [
            "/usr/local/lib/python3.7/dist-packages/tensorflow/python/util/dispatch.py:1096: UserWarning: \"`categorical_crossentropy` received `from_logits=True`, but the `output` argument was produced by a sigmoid or softmax activation and thus does not represent logits. Was this intended?\"\n",
            "  return dispatch_target(*args, **kwargs)\n"
          ]
        },
        {
          "output_type": "stream",
          "name": "stdout",
          "text": [
            "184/184 [==============================] - 7s 38ms/step - loss: 0.5461 - accuracy: 0.8521\n",
            "Val. Loss:  0.5460711121559143\n",
            "Val. Accuracy:  0.852123498916626\n"
          ]
        }
      ]
    },
    {
      "cell_type": "code",
      "metadata": {
        "colab": {
          "base_uri": "https://localhost:8080/"
        },
        "id": "aie6uqZg-lz-",
        "outputId": "7957e6d6-96f3-4488-e7e8-7b406e0bd9be"
      },
      "source": [
        "from sklearn.metrics import confusion_matrix\n",
        "true_cat = []\n",
        "for y in y_test:\n",
        "  true_cat.append(np.where(y==1)[0])\n",
        "predicted_cat = tf.argmax(preds, axis=1)\n",
        "predicted_cat\n",
        "print(confusion_matrix(predicted_cat, true_cat))"
      ],
      "id": "aie6uqZg-lz-",
      "execution_count": 44,
      "outputs": [
        {
          "output_type": "stream",
          "name": "stdout",
          "text": [
            "[[366   1   2   1   0   0   0   0   1   1   0   1   0   0   0   0]\n",
            " [  0 291   0   1   0   0   0   0   5   3   4   6   0   0   0   0]\n",
            " [  1   1 396   1   0   0   0   0   2   0   0   0   0   1   0   4]\n",
            " [  0   1   1 285   0   0   0   0   2   2   5   3   0   1   0   1]\n",
            " [  0   0   0   0 381   0   0   0   1   0   0   0   0   4   0   0]\n",
            " [  0   0   0   0   0 369   0   0   0   0   0   0   0   0   3   0]\n",
            " [  0   0   0   0   0   0 349   0   0   0   1   0   4   0   0   0]\n",
            " [  1   0   0   0   0   0   0 384   0   1   0   0   0   0   0   1]\n",
            " [  0   4   0  13   0   0   0   0 135  49  23  37   0   0   0   0]\n",
            " [  0  59   0  34   0   0   0   0 187 252 122 136   0   0   0   2]\n",
            " [  0   1   0   2   0   0   0   0   6   3 206  12   1   0   0   1]\n",
            " [  0   4   3   3   0   0   0   0   3   7   6 142   0   0   0   0]\n",
            " [  0   0   0   1   0   0   0   0   1   1   2   4 355   0   0   0]\n",
            " [  3   3   0   0   0   0   0   0   4   5   4   3   0 381   0   4]\n",
            " [  0   2   0   7   0   0   0   0   1   1   2   2   0   1 354   1]\n",
            " [  4   1   2   3   0   0   0   0   4   5   4   1   0   4   1 350]]\n"
          ]
        }
      ]
    },
    {
      "cell_type": "code",
      "metadata": {
        "id": "jrO9QUketsCM",
        "colab": {
          "base_uri": "https://localhost:8080/"
        },
        "outputId": "9cda5d1e-c809-4be0-f876-95ff0291a29f"
      },
      "source": [
        "max_features =50000\n",
        "embedding_dim =64\n",
        "sequence_length = 250\n",
        "\n",
        "model3 = tf.keras.Sequential()\n",
        "\n",
        "model3.add(tf.keras.layers.Embedding(max_features +1, embedding_dim, input_length=sequence_length, ))                                 \n",
        "\n",
        "model3.add(tf.keras.layers.Conv1D(128,16, activation='relu'))                               \n",
        "\n",
        "model3.add(tf.keras.layers.MaxPooling1D())\n",
        "\n",
        "model3.add(tf.keras.layers.Conv1D(128,16, activation='relu'))                               \n",
        "\n",
        "model3.add(tf.keras.layers.GlobalMaxPooling1D())\n",
        "\n",
        "model3.add(tf.keras.layers.Dropout(0.5))\n",
        "\n",
        "model3.add(tf.keras.layers.Dense(16, activation='sigmoid'))\n",
        "\n",
        "model3.compile(loss=tf.keras.losses.CategoricalCrossentropy(from_logits=True), optimizer='Nadam', metrics=[\"accuracy\"])\n",
        "model3.summary()"
      ],
      "id": "jrO9QUketsCM",
      "execution_count": 26,
      "outputs": [
        {
          "output_type": "stream",
          "name": "stdout",
          "text": [
            "Model: \"sequential_2\"\n",
            "_________________________________________________________________\n",
            " Layer (type)                Output Shape              Param #   \n",
            "=================================================================\n",
            " embedding_2 (Embedding)     (None, 250, 64)           3200064   \n",
            "                                                                 \n",
            " conv1d_1 (Conv1D)           (None, 235, 128)          131200    \n",
            "                                                                 \n",
            " max_pooling1d (MaxPooling1D  (None, 117, 128)         0         \n",
            " )                                                               \n",
            "                                                                 \n",
            " conv1d_2 (Conv1D)           (None, 102, 128)          262272    \n",
            "                                                                 \n",
            " global_max_pooling1d_1 (Glo  (None, 128)              0         \n",
            " balMaxPooling1D)                                                \n",
            "                                                                 \n",
            " dropout_3 (Dropout)         (None, 128)               0         \n",
            "                                                                 \n",
            " dense_2 (Dense)             (None, 16)                2064      \n",
            "                                                                 \n",
            "=================================================================\n",
            "Total params: 3,595,600\n",
            "Trainable params: 3,595,600\n",
            "Non-trainable params: 0\n",
            "_________________________________________________________________\n"
          ]
        }
      ]
    },
    {
      "cell_type": "code",
      "metadata": {
        "id": "nk30ngDxU9Cy"
      },
      "source": [
        "callbacks = [EarlyStopping( monitor=\"val_accuracy\", patience=2 ),\n",
        "            ModelCheckpoint('./model3.h5', monitor = 'val_accuracy', mode = 'max', verbose = 1, save_best_only = True)]"
      ],
      "id": "nk30ngDxU9Cy",
      "execution_count": 45,
      "outputs": []
    },
    {
      "cell_type": "code",
      "metadata": {
        "id": "Xm-xKJhp6UfY",
        "colab": {
          "base_uri": "https://localhost:8080/"
        },
        "outputId": "dfe70db3-b282-4ac3-fb42-7b8e013b1b46"
      },
      "source": [
        "history_3 = model3.fit(x_train,y_train,validation_data=(x_test,y_test),epochs=20,batch_size=64, callbacks = callbacks )"
      ],
      "id": "Xm-xKJhp6UfY",
      "execution_count": 46,
      "outputs": [
        {
          "output_type": "stream",
          "name": "stdout",
          "text": [
            "Epoch 1/20\n",
            "367/367 [==============================] - ETA: 0s - loss: 2.7727 - accuracy: 0.0638\n",
            "Epoch 00001: val_accuracy improved from -inf to 0.05918, saving model to ./model3.h5\n",
            "367/367 [==============================] - 217s 592ms/step - loss: 2.7727 - accuracy: 0.0638 - val_loss: 2.7731 - val_accuracy: 0.0592\n",
            "Epoch 2/20\n",
            "367/367 [==============================] - ETA: 0s - loss: 2.7728 - accuracy: 0.0606\n",
            "Epoch 00002: val_accuracy did not improve from 0.05918\n",
            "367/367 [==============================] - 217s 591ms/step - loss: 2.7728 - accuracy: 0.0606 - val_loss: 2.7730 - val_accuracy: 0.0563\n",
            "Epoch 3/20\n",
            "367/367 [==============================] - ETA: 0s - loss: 2.7727 - accuracy: 0.0599\n",
            "Epoch 00003: val_accuracy did not improve from 0.05918\n",
            "367/367 [==============================] - 218s 593ms/step - loss: 2.7727 - accuracy: 0.0599 - val_loss: 2.7732 - val_accuracy: 0.0563\n"
          ]
        }
      ]
    },
    {
      "cell_type": "code",
      "metadata": {
        "id": "EdW_Zi9Om6Vw",
        "colab": {
          "base_uri": "https://localhost:8080/"
        },
        "outputId": "b7c8e754-ed8a-4c5d-d379-c5d73b9dbb35"
      },
      "source": [
        "model = tf.keras.models.load_model('model3.h5')\n",
        "preds = model.predict(x_test)\n",
        "eval = model.evaluate(x_test,y_test)\n",
        "print(\"Val. Loss: \",eval[0])\n",
        "print(\"Val. Accuracy: \",eval[1])"
      ],
      "id": "EdW_Zi9Om6Vw",
      "execution_count": 47,
      "outputs": [
        {
          "output_type": "stream",
          "name": "stdout",
          "text": [
            "\r  1/184 [..............................] - ETA: 38s - loss: 2.7751 - accuracy: 0.0000e+00"
          ]
        },
        {
          "output_type": "stream",
          "name": "stderr",
          "text": [
            "/usr/local/lib/python3.7/dist-packages/tensorflow/python/util/dispatch.py:1096: UserWarning: \"`categorical_crossentropy` received `from_logits=True`, but the `output` argument was produced by a sigmoid or softmax activation and thus does not represent logits. Was this intended?\"\n",
            "  return dispatch_target(*args, **kwargs)\n"
          ]
        },
        {
          "output_type": "stream",
          "name": "stdout",
          "text": [
            "184/184 [==============================] - 13s 68ms/step - loss: 2.7731 - accuracy: 0.0592\n",
            "Val. Loss:  2.773073673248291\n",
            "Val. Accuracy:  0.0591847188770771\n"
          ]
        }
      ]
    },
    {
      "cell_type": "code",
      "metadata": {
        "colab": {
          "base_uri": "https://localhost:8080/"
        },
        "id": "h49WtLAvVuAt",
        "outputId": "2021e77e-a7ab-4a06-aa16-dfb938c3a586"
      },
      "source": [
        "from sklearn.metrics import confusion_matrix\n",
        "true_cat = []\n",
        "for y in y_test:\n",
        "  true_cat.append(np.where(y==1)[0])\n",
        "predicted_cat = tf.argmax(preds, axis=1)\n",
        "predicted_cat\n",
        "print(confusion_matrix(predicted_cat, true_cat))"
      ],
      "id": "h49WtLAvVuAt",
      "execution_count": 48,
      "outputs": [
        {
          "output_type": "stream",
          "name": "stdout",
          "text": [
            "[[  0   0   0   0   0   0   0   0   0   0   0   0   0   0   0   0]\n",
            " [  0   0   0   0   0   0   0   0   0   0   0   0   0   0   0   0]\n",
            " [  0   0   0   0   0   0   0   0   0   0   0   0   0   0   0   0]\n",
            " [  0   0   0   0   0   0   0   0   0   0   0   0   0   0   0   0]\n",
            " [  0   0   0   0   0   0   0   0   0   0   0   0   0   0   0   0]\n",
            " [  0   0   0   0   0   0   0   0   0   0   0   0   0   0   0   0]\n",
            " [  0   0   0   0   0   0   0   0   0   0   0   0   0   0   0   0]\n",
            " [  0   0   0   0   0   0   0   0   0   0   0   0   0   0   0   0]\n",
            " [  0   0   0   0   0   0   0   0   0   0   0   0   0   0   0   0]\n",
            " [  0   0   0   0   0   0   0   0   0   0   0   0   0   0   0   0]\n",
            " [  0   0   0   0   0   0   0   0   0   0   0   0   0   0   0   0]\n",
            " [375 368 404 351 381 369 349 384 352 330 379 347 360 392 358 364]\n",
            " [  0   0   0   0   0   0   0   0   0   0   0   0   0   0   0   0]\n",
            " [  0   0   0   0   0   0   0   0   0   0   0   0   0   0   0   0]\n",
            " [  0   0   0   0   0   0   0   0   0   0   0   0   0   0   0   0]\n",
            " [  0   0   0   0   0   0   0   0   0   0   0   0   0   0   0   0]]\n"
          ]
        }
      ]
    },
    {
      "cell_type": "code",
      "metadata": {
        "id": "Iu_YUTnTX6-H"
      },
      "source": [
        ""
      ],
      "id": "Iu_YUTnTX6-H",
      "execution_count": null,
      "outputs": []
    }
  ]
}